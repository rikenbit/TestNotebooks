{
 "cells": [
  {
   "cell_type": "markdown",
   "metadata": {},
   "source": [
    "# Test code of Vicus Function"
   ]
  },
  {
   "cell_type": "markdown",
   "metadata": {},
   "source": [
    "## Dependent Packages Installation"
   ]
  },
  {
   "cell_type": "code",
   "execution_count": 1,
   "metadata": {},
   "outputs": [
    {
     "name": "stderr",
     "output_type": "stream",
     "text": [
      "Loading required package: DRR\n",
      "\n",
      "Loading required package: kernlab\n",
      "\n",
      "Loading required package: CVST\n",
      "\n",
      "Loading required package: Matrix\n",
      "\n",
      "\n",
      "Attaching package: ‘dimRed’\n",
      "\n",
      "\n",
      "The following object is masked from ‘package:stats’:\n",
      "\n",
      "    embed\n",
      "\n",
      "\n",
      "The following object is masked from ‘package:base’:\n",
      "\n",
      "    as.data.frame\n",
      "\n",
      "\n"
     ]
    }
   ],
   "source": [
    "if (!requireNamespace(\"testthat\", quietly = TRUE)){\n",
    "    install.packages(\"testthat\", repos=\"https://cran.r-project.org\")\n",
    "}\n",
    "library(\"testthat\")\n",
    "if (!requireNamespace(\"dimRed\", quietly = TRUE)){\n",
    "    install.packages(\"dimRed\", repos=\"https://cran.r-project.org\")\n",
    "}\n",
    "library(\"dimRed\")"
   ]
  },
  {
   "cell_type": "markdown",
   "metadata": {},
   "source": [
    "## Vicus Function (Paste your Vicus code here)"
   ]
  },
  {
   "cell_type": "code",
   "execution_count": 2,
   "metadata": {},
   "outputs": [],
   "source": [
    "Vicus <- function(X, alpha=0.9){\n",
    "    ######################################\n",
    "    # Argument Check\n",
    "    ######################################\n",
    "    .checkVicus(X, alpha)\n",
    "    # Local spectrum matrix\n",
    "    V <- ...\n",
    "}\n",
    "\n",
    ".checkVicus <- function(X, alpha){\n",
    "\tstopifnot(is.matrix(X))\n",
    "\tstopifnot(is.numeric(alpha))\n",
    "\tstopifnot(alpha > 0)\n",
    "\tstopifnot(alpha < 1)\n",
    "}"
   ]
  },
  {
   "cell_type": "markdown",
   "metadata": {},
   "source": [
    "## Simulation Datasets"
   ]
  },
  {
   "cell_type": "code",
   "execution_count": 3,
   "metadata": {},
   "outputs": [],
   "source": [
    "X <- matrix(runif(100*40), nrow=100, ncol=40)\n",
    "X[1:25, 1:10] <- 10 * X[1:25, 1:10]\n",
    "X[26:50, 11:20] <- 20 * X[26:50, 11:20]\n",
    "X[51:75, 21:30] <- 30 * X[51:75, 21:30]\n",
    "labelX <- rep(1:4, each=25)"
   ]
  },
  {
   "cell_type": "markdown",
   "metadata": {},
   "source": [
    "## Perform Vicus and simular methods against Simulation Dataset"
   ]
  },
  {
   "cell_type": "code",
   "execution_count": 4,
   "metadata": {},
   "outputs": [
    {
     "ename": "ERROR",
     "evalue": "Error in Vicus(X):  '...' が不適切な文脈で使われました \n",
     "output_type": "error",
     "traceback": [
      "Error in Vicus(X):  '...' が不適切な文脈で使われました \nTraceback:\n",
      "1. svd(Vicus(X))",
      "2. as.matrix(x)",
      "3. Vicus(X)"
     ]
    }
   ],
   "source": [
    "J=2\n",
    "out.Vicus <- svd(Vicus(X))$u[, 1:J]\n",
    "\n",
    "dat <- new(\"dimRedData\")\n",
    "dat@data <- X\n",
    "out.LLE <- embed(dat, \"LLE\", knn = 50, ndim=J)\n",
    "out.HLLE <- embed(dat, \"HLLE\", knn = 15, ndim=J)\n",
    "\n",
    "plot(out.Vicus, col=labelX, pch=16, cex=2)\n",
    "plot(out.LLE@data@data, col=labelX, pch=16, cex=2)\n",
    "plot(out.HLLE@data@data, col=labelX, pch=16, cex=2)"
   ]
  },
  {
   "cell_type": "markdown",
   "metadata": {},
   "source": [
    "## Test Input object / type"
   ]
  },
  {
   "cell_type": "markdown",
   "metadata": {},
   "source": [
    "### Test I-1: Object Names"
   ]
  },
  {
   "cell_type": "code",
   "execution_count": 5,
   "metadata": {},
   "outputs": [],
   "source": [
    "expect_identical(names(formals(Vicus)), c(\"X\", \"alpha\"))"
   ]
  },
  {
   "cell_type": "markdown",
   "metadata": {},
   "source": [
    "### Test I-2: X"
   ]
  },
  {
   "cell_type": "code",
   "execution_count": null,
   "metadata": {},
   "outputs": [],
   "source": [
    "expect_identical(as.character(formals(ICA)$X), \"\")"
   ]
  },
  {
   "cell_type": "markdown",
   "metadata": {},
   "source": [
    "### Test I-3: alpha"
   ]
  },
  {
   "cell_type": "code",
   "execution_count": 6,
   "metadata": {},
   "outputs": [
    {
     "ename": "ERROR",
     "evalue": "Error in formals(ICA):  オブジェクト 'ICA' がありません \n",
     "output_type": "error",
     "traceback": [
      "Error in formals(ICA):  オブジェクト 'ICA' がありません \nTraceback:\n",
      "1. expect_identical(as.character(formals(ICA)$alpha), 0.9)",
      "2. quasi_label(enquo(object), label, arg = \"object\")",
      "3. eval_bare(expr, quo_get_env(quo))",
      "4. formals(ICA)"
     ]
    }
   ],
   "source": [
    "expect_identical(formals(ICA)$alpha, 0.9)"
   ]
  },
  {
   "cell_type": "markdown",
   "metadata": {},
   "source": [
    "## Test Output object / type"
   ]
  },
  {
   "cell_type": "markdown",
   "metadata": {},
   "source": [
    "### Test O-1: Object"
   ]
  },
  {
   "cell_type": "code",
   "execution_count": 7,
   "metadata": {},
   "outputs": [
    {
     "ename": "ERROR",
     "evalue": "Error in eval_bare(expr, quo_get_env(quo)):  オブジェクト 'out.Vicus' がありません \n",
     "output_type": "error",
     "traceback": [
      "Error in eval_bare(expr, quo_get_env(quo)):  オブジェクト 'out.Vicus' がありません \nTraceback:\n",
      "1. expect_identical(is.matrix(out.Vicus), TRUE)",
      "2. quasi_label(enquo(object), label, arg = \"object\")",
      "3. eval_bare(expr, quo_get_env(quo))"
     ]
    }
   ],
   "source": [
    "expect_identical(is.matrix(out.Vicus), TRUE)"
   ]
  },
  {
   "cell_type": "markdown",
   "metadata": {},
   "source": [
    "## Session Information"
   ]
  },
  {
   "cell_type": "code",
   "execution_count": null,
   "metadata": {},
   "outputs": [],
   "source": [
    "sessionInfo()"
   ]
  }
 ],
 "metadata": {
  "kernelspec": {
   "display_name": "R",
   "language": "R",
   "name": "ir"
  },
  "language_info": {
   "codemirror_mode": "r",
   "file_extension": ".r",
   "mimetype": "text/x-r-source",
   "name": "R",
   "pygments_lexer": "r",
   "version": "3.6.3"
  }
 },
 "nbformat": 4,
 "nbformat_minor": 4
}
