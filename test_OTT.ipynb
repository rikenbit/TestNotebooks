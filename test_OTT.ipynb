{
 "cells": [
  {
   "cell_type": "markdown",
   "metadata": {},
   "source": [
    "# Test code of OTT Function"
   ]
  },
  {
   "cell_type": "markdown",
   "metadata": {},
   "source": [
    "## Dependent Packages Installation"
   ]
  },
  {
   "cell_type": "code",
   "execution_count": null,
   "metadata": {},
   "outputs": [],
   "source": [
    "if (!requireNamespace(\"testthat\", quietly = TRUE)){\n",
    "    install.packages(\"testthat\", repos=\"https://cran.r-project.org\")\n",
    "}\n",
    "library(\"testthat\")\n",
    "if (!requireNamespace(\"rTensor\", quietly = TRUE)){\n",
    "    install.packages(\"rTensor\", repos=\"https://cran.r-project.org\")\n",
    "}\n",
    "library(\"rTensor\")"
   ]
  },
  {
   "cell_type": "markdown",
   "metadata": {},
   "source": [
    "## OTT Function (Paste your OTT code here)"
   ]
  },
  {
   "cell_type": "code",
   "execution_count": null,
   "metadata": {},
   "outputs": [],
   "source": [
    "# num.sample / num.iterは論文の値にしましたが、大きすぎたら、小さめの値に変えてください\n",
    "OTT <- function(X, Y, ps=NULL, qs=NULL, loss=dist, num.sample=1000,\n",
    "    num.iter=1000, thr=1e-10, epsilon=1e-10, verbose=FALSE){\n",
    "    ######################################\n",
    "    # Argument Check\n",
    "    ######################################\n",
    "    .checkOTT(X, Y, ps, qs, loss, num.sample, num.iter, thr, epsilon, verbose)\n",
    "    ######################################\n",
    "    # Initialization\n",
    "    ######################################\n",
    "    int <- .initOTT(X, Y, ps, qs, thr)\n",
    "    Ls <- int$Ls\n",
    "    ps <- int$ps\n",
    "    qs <- int$qs\n",
    "    Ts <- int$Ts\n",
    "    A <- int$A\n",
    "    RecError <- int$RecError\n",
    "    RelChange <- int$RelChange\n",
    "    ######################################\n",
    "    # Iteration\n",
    "    ######################################\n",
    "    iter <- 1\n",
    "    while ((RelChange[iter] > thr) && (iter <= num.iter)) {\n",
    "        for(a in seq(A)){\n",
    "            Ts[[a]] <- ...\n",
    "         }\n",
    "        iter <- iter + 1\n",
    "        # 目的関数の値を入れる\n",
    "        RecError[iter] <- .recError(X, X_bar)\n",
    "        RelChange[iter] <- .relChange(iter, RecError)\n",
    "        # Verbose\n",
    "        if(verbose){\n",
    "             cat(paste0(iter, \" / \", num.iter,\n",
    "                \" |Previous Error - Error| / Error = \",\n",
    "                RelChange[iter], \"\\n\"))\n",
    "        }\n",
    "    }\n",
    "    # Output\n",
    "    names(RecError) <- c(\"offset\", 1:(iter - 1))\n",
    "    names(RelChange) <- c(\"offset\", 1:(iter - 1))\n",
    "    # Output\n",
    "    list(Ts=Ts, num.sample=num.sample, num.iter=num.iter,\n",
    "        thr=thr, epsilon=epsilon, verbose=verbose,\n",
    "        RecError=RecError, RelChange=RelChange)\n",
    "}\n",
    "\n",
    ".checkOTT <- function(X, Y, ps, qs, loss, num.sample,\n",
    "    num.iter, thr, epsilon, verbose){\n",
    "    stopifnot(is(X)[1] == \"Tensor\")\n",
    "    stopifnot(is(Y)[1] == \"Tensor\")\n",
    "    stopifnot(identical(dim(X), dim(Y)))\n",
    "    if(!is.null(ps)){\n",
    "        stopifnot(is.list(ps))\n",
    "        l1 <- dim(X)\n",
    "        l2 <- lapply(ps, length)\n",
    "        stopifnot(identical(l1, l2))\n",
    "    }\n",
    "    if(!is.null(qs)){\n",
    "        stopifnot(is.list(qs))\n",
    "        l1 <- dim(Y)\n",
    "        l2 <- lapply(qs, length)\n",
    "        stopifnot(identical(l1, l2))\n",
    "    }\n",
    "    stopifnot(is(loss)[1] == \"function\")\n",
    "    stopifnot(is.numeric(num.sample))\n",
    "    stopifnot(num.sample >= 1)\n",
    "    stopifnot(num.sample <= ...) # 上限値をここに入れてください\n",
    "    stopifnot(is.numeric(num.iter))\n",
    "    stopifnot(num.iter >= 1)\n",
    "    stopifnot(is.numeric(thr))\n",
    "    stopifnot(thr >= 0)\n",
    "    stopifnot(is.numeric(epsilon))\n",
    "    stopifnot(epsilon >= 0)\n",
    "    stopifnot(is.logical(verbose))\n",
    "}\n",
    "\n",
    ".initOTT <- function(X, Y, ps, qs, thr){\n",
    "    # Lossの計算\n",
    "    Ls <- ...\n",
    "    # 最適輸送計画\n",
    "    if (is.null(ps)){\n",
    "        # 何も指定がない場合は、一様分布\n",
    "        ps <- lapply(dim(X), function(x){\n",
    "            out <- rep(1, length=x)\n",
    "            out / sum(out)\n",
    "        })\n",
    "    }\n",
    "    if (is.null(qs)){\n",
    "        # 何も指定がない場合は、一様分布\n",
    "        qs <- lapply(dim(Y), function(x){\n",
    "            out <- rep(1, length=x)\n",
    "            out / sum(out)\n",
    "        })\n",
    "    }\n",
    "    A <- length(dim(X))\n",
    "    Ts <- lapply(seq(A), function(a){\n",
    "        ps[[a]] %o% qs[[a]]\n",
    "    })\n",
    "    # Reconstruction Error\n",
    "    RecError <- ...\n",
    "    # Relative Change\n",
    "    RelChange <- thr * 10\n",
    "    list(Ls=Ls, ps=ps, qs=qs, Ts=Ts, A=A,\n",
    "        RecError=RecError, RelChange=RelChange)\n",
    "}"
   ]
  },
  {
   "cell_type": "markdown",
   "metadata": {},
   "source": [
    "## Simulation Datasets"
   ]
  },
  {
   "cell_type": "code",
   "execution_count": null,
   "metadata": {},
   "outputs": [],
   "source": [
    "arrX <- array(runif(10*12*14), dim=c(10,12,14))\n",
    "arrY <- array(array(runif(11*13*15), dim=c(11,13,15)))\n",
    "X <- as.tensor(arrX)\n",
    "Y <- as.tensor(arrY)"
   ]
  },
  {
   "cell_type": "markdown",
   "metadata": {},
   "source": [
    "## Perform OTT against Simulation Datasets"
   ]
  },
  {
   "cell_type": "code",
   "execution_count": null,
   "metadata": {},
   "outputs": [],
   "source": [
    "out <- OTT(X, Y)"
   ]
  },
  {
   "cell_type": "markdown",
   "metadata": {},
   "source": [
    "## Test Input object / type"
   ]
  },
  {
   "cell_type": "markdown",
   "metadata": {},
   "source": [
    "### Test I-1: Object Names"
   ]
  },
  {
   "cell_type": "code",
   "execution_count": null,
   "metadata": {},
   "outputs": [],
   "source": [
    "expect_identical(names(formals(OTT)),\n",
    "    c(\"X\", \"Y\", \"ps\", \"qs\", \"loss\", \"num.sample\",\n",
    "        \"num.iter\", \"thr\", \"epsilon\", \"verbose\"))"
   ]
  },
  {
   "cell_type": "markdown",
   "metadata": {},
   "source": [
    "### Test I-2: X"
   ]
  },
  {
   "cell_type": "code",
   "execution_count": null,
   "metadata": {},
   "outputs": [],
   "source": [
    "expect_identical(as.character(formals(OTT)$X), \"\")"
   ]
  },
  {
   "cell_type": "markdown",
   "metadata": {},
   "source": [
    "### Test I-3: Y"
   ]
  },
  {
   "cell_type": "code",
   "execution_count": null,
   "metadata": {},
   "outputs": [],
   "source": [
    "expect_identical(as.character(formals(OTT)$Y), \"\")"
   ]
  },
  {
   "cell_type": "markdown",
   "metadata": {},
   "source": [
    "### Test I-4: ps"
   ]
  },
  {
   "cell_type": "code",
   "execution_count": null,
   "metadata": {},
   "outputs": [],
   "source": [
    "expect_identical(formals(OTT)$ps, NULL)"
   ]
  },
  {
   "cell_type": "markdown",
   "metadata": {},
   "source": [
    "### Test I-5: qs"
   ]
  },
  {
   "cell_type": "code",
   "execution_count": null,
   "metadata": {},
   "outputs": [],
   "source": [
    "expect_identical(formals(OTT)$qs, NULL)"
   ]
  },
  {
   "cell_type": "markdown",
   "metadata": {},
   "source": [
    "### Test I-5: loss"
   ]
  },
  {
   "cell_type": "code",
   "execution_count": null,
   "metadata": {},
   "outputs": [],
   "source": [
    "expect_true(is.function(formals(OTT)$loss))"
   ]
  },
  {
   "cell_type": "markdown",
   "metadata": {},
   "source": [
    "### Test I-6: num.sample"
   ]
  },
  {
   "cell_type": "code",
   "execution_count": null,
   "metadata": {},
   "outputs": [],
   "source": [
    "expect_identical(formals(OTT)$num.sample, 1000)"
   ]
  },
  {
   "cell_type": "markdown",
   "metadata": {},
   "source": [
    "### Test I-7: num.iter"
   ]
  },
  {
   "cell_type": "code",
   "execution_count": null,
   "metadata": {},
   "outputs": [],
   "source": [
    "expect_identical(formals(OTT)$num.iter, 1000)"
   ]
  },
  {
   "cell_type": "markdown",
   "metadata": {},
   "source": [
    "### Test I-8: thr"
   ]
  },
  {
   "cell_type": "code",
   "execution_count": null,
   "metadata": {},
   "outputs": [],
   "source": [
    "expect_identical(formals(OTT)$thr, 1E-10)"
   ]
  },
  {
   "cell_type": "markdown",
   "metadata": {},
   "source": [
    "### Test I-9: epsilon"
   ]
  },
  {
   "cell_type": "code",
   "execution_count": null,
   "metadata": {},
   "outputs": [],
   "source": [
    "expect_identical(formals(OTT)$epsilon, 1E-10)"
   ]
  },
  {
   "cell_type": "markdown",
   "metadata": {},
   "source": [
    "### Test I-10: verbose"
   ]
  },
  {
   "cell_type": "code",
   "execution_count": null,
   "metadata": {},
   "outputs": [],
   "source": [
    "expect_identical(formals(OTT)$verbose, FALSE)"
   ]
  },
  {
   "cell_type": "markdown",
   "metadata": {},
   "source": [
    "## Test Output object / type"
   ]
  },
  {
   "cell_type": "markdown",
   "metadata": {},
   "source": [
    "### Test O-1: Object"
   ]
  },
  {
   "cell_type": "code",
   "execution_count": null,
   "metadata": {},
   "outputs": [],
   "source": [
    "expect_identical(is.list(out), TRUE)"
   ]
  },
  {
   "cell_type": "markdown",
   "metadata": {},
   "source": [
    "### Test O-2: Object Names"
   ]
  },
  {
   "cell_type": "code",
   "execution_count": null,
   "metadata": {},
   "outputs": [],
   "source": [
    "expect_identical(names(out),\n",
    "    c(\"Ts\", \"num.sample\", \"num.iter\", \"thr\",\n",
    "        \"epsilon\", \"verbose\", \"RecError\", \"RelChange\"))"
   ]
  },
  {
   "cell_type": "markdown",
   "metadata": {},
   "source": [
    "### Test 0-3: Ts"
   ]
  },
  {
   "cell_type": "code",
   "execution_count": null,
   "metadata": {},
   "outputs": [],
   "source": [
    "expect_identical(is.list(out$Ts), TRUE)\n",
    "expect_identical(is.matrix(out$Ts[[1]]), TRUE)\n",
    "expect_identical(is.matrix(out$Ts[[2]]), TRUE)\n",
    "expect_identical(is.matrix(out$Ts[[3]]), TRUE)\n",
    "\n",
    "expect_identical(dim(out$Ts[[1]]), c(dim(X)[1], dim(Y)[1]))\n",
    "expect_identical(dim(out$Ts[[2]]), c(dim(X)[2], dim(Y)[2]))\n",
    "expect_identical(dim(out$Ts[[3]]), c(dim(X)[3], dim(Y)[3]))"
   ]
  },
  {
   "cell_type": "markdown",
   "metadata": {},
   "source": [
    "### Test 0-4: num.sample"
   ]
  },
  {
   "cell_type": "code",
   "execution_count": null,
   "metadata": {},
   "outputs": [],
   "source": [
    "expect_identical(out$num.sample, formals(OTT)$num.sample)"
   ]
  },
  {
   "cell_type": "markdown",
   "metadata": {},
   "source": [
    "### Test 0-5: num.iter"
   ]
  },
  {
   "cell_type": "code",
   "execution_count": null,
   "metadata": {},
   "outputs": [],
   "source": [
    "expect_identical(out$num.iter, formals(OTT)$num.iter)"
   ]
  },
  {
   "cell_type": "markdown",
   "metadata": {},
   "source": [
    "### Test 0-6: thr"
   ]
  },
  {
   "cell_type": "code",
   "execution_count": null,
   "metadata": {},
   "outputs": [],
   "source": [
    "expect_identical(out$thr, formals(OTT)$thr)"
   ]
  },
  {
   "cell_type": "markdown",
   "metadata": {},
   "source": [
    "### Test 0-7: epsilon"
   ]
  },
  {
   "cell_type": "code",
   "execution_count": null,
   "metadata": {},
   "outputs": [],
   "source": [
    "expect_identical(out$epsilon, formals(OTT)$epsilon)"
   ]
  },
  {
   "cell_type": "markdown",
   "metadata": {},
   "source": [
    "### Test 0-8: verbose"
   ]
  },
  {
   "cell_type": "code",
   "execution_count": null,
   "metadata": {},
   "outputs": [],
   "source": [
    "expect_identical(out$verbose, formals(OTT)$verbose)"
   ]
  },
  {
   "cell_type": "markdown",
   "metadata": {},
   "source": [
    "### Test 0-9: RecError"
   ]
  },
  {
   "cell_type": "code",
   "execution_count": null,
   "metadata": {},
   "outputs": [],
   "source": [
    "expect_identical(is.vector(out$RecError), TRUE)"
   ]
  },
  {
   "cell_type": "markdown",
   "metadata": {},
   "source": [
    "### Test 0-10: RelChange"
   ]
  },
  {
   "cell_type": "code",
   "execution_count": null,
   "metadata": {},
   "outputs": [],
   "source": [
    "expect_identical(is.vector(out$RelChange), TRUE)"
   ]
  },
  {
   "cell_type": "markdown",
   "metadata": {},
   "source": [
    "## Test Error"
   ]
  },
  {
   "cell_type": "markdown",
   "metadata": {},
   "source": [
    "### Test E-1: X / Y"
   ]
  },
  {
   "cell_type": "code",
   "execution_count": null,
   "metadata": {},
   "outputs": [],
   "source": [
    "expect_error(OTT(arrX, Y))\n",
    "expect_error(OTT(X, arrY))\n",
    "expect_error(OTT(arrX, arrY))"
   ]
  },
  {
   "cell_type": "markdown",
   "metadata": {},
   "source": [
    "### Test E-2: ps"
   ]
  },
  {
   "cell_type": "code",
   "execution_count": null,
   "metadata": {},
   "outputs": [],
   "source": [
    "expect_error(OTT(X, Y, ps=runif(1:10)))"
   ]
  },
  {
   "cell_type": "markdown",
   "metadata": {},
   "source": [
    "### Test E-3: qs"
   ]
  },
  {
   "cell_type": "code",
   "execution_count": null,
   "metadata": {},
   "outputs": [],
   "source": [
    "expect_error(OTT(X, Y, qs=runif(1:10)))"
   ]
  },
  {
   "cell_type": "markdown",
   "metadata": {},
   "source": [
    "### Test E-4: loss"
   ]
  },
  {
   "cell_type": "code",
   "execution_count": null,
   "metadata": {},
   "outputs": [],
   "source": [
    "expect_error(OTT(X, Y, loss=\"loss\"))\n",
    "expect_error(OTT(X, Y, loss=marix(runif(3*4), nrow=3, ncol=4)))"
   ]
  },
  {
   "cell_type": "markdown",
   "metadata": {},
   "source": [
    "### Test E-5: num.sample"
   ]
  },
  {
   "cell_type": "code",
   "execution_count": null,
   "metadata": {},
   "outputs": [],
   "source": [
    "expect_error(OTT(X, Y, num.sample=\"100\"))\n",
    "expect_error(OTT(X, Y, num.sample=-1))"
   ]
  },
  {
   "cell_type": "markdown",
   "metadata": {},
   "source": [
    "### Test E-6: num.iter"
   ]
  },
  {
   "cell_type": "code",
   "execution_count": null,
   "metadata": {},
   "outputs": [],
   "source": [
    "expect_error(OTT(X, Y, num.iter=\"100\"))\n",
    "expect_error(OTT(X, Y, num.iter=-1))"
   ]
  },
  {
   "cell_type": "markdown",
   "metadata": {},
   "source": [
    "### Test E-7: thr"
   ]
  },
  {
   "cell_type": "code",
   "execution_count": null,
   "metadata": {},
   "outputs": [],
   "source": [
    "expect_error(OTT(X, Y, thr=\"100\"))\n",
    "expect_error(OTT(X, Y, epsilon=-1))"
   ]
  },
  {
   "cell_type": "markdown",
   "metadata": {},
   "source": [
    "### Test E-8: epsilon"
   ]
  },
  {
   "cell_type": "code",
   "execution_count": null,
   "metadata": {},
   "outputs": [],
   "source": [
    "expect_error(OTT(X, Y, epsilon=\"100\"))\n",
    "expect_error(OTT(X, Y, epsilon=-1))"
   ]
  },
  {
   "cell_type": "markdown",
   "metadata": {},
   "source": [
    "### Test E-9: verbose"
   ]
  },
  {
   "cell_type": "code",
   "execution_count": null,
   "metadata": {},
   "outputs": [],
   "source": [
    "expect_error(OTT(X, Y, verbose=\"verbose\"))"
   ]
  },
  {
   "cell_type": "markdown",
   "metadata": {},
   "source": [
    "## Test Decrease of Error"
   ]
  },
  {
   "cell_type": "markdown",
   "metadata": {},
   "source": [
    "### Test D-1: RecError"
   ]
  },
  {
   "cell_type": "code",
   "execution_count": null,
   "metadata": {},
   "outputs": [],
   "source": [
    ".sampleRank <- function(x){\n",
    "\trank(c(x[2], median(x), rev(x)[1]))\n",
    "}\n",
    "expect_identical(.sampleRank(out$RecError), 3:1)"
   ]
  },
  {
   "cell_type": "markdown",
   "metadata": {},
   "source": [
    "### Test D-2: RelChange"
   ]
  },
  {
   "cell_type": "code",
   "execution_count": null,
   "metadata": {},
   "outputs": [],
   "source": [
    "expect_identical(.sampleRank(out$RelChange), 3:1)"
   ]
  },
  {
   "cell_type": "markdown",
   "metadata": {},
   "source": [
    "## Session Information"
   ]
  },
  {
   "cell_type": "code",
   "execution_count": null,
   "metadata": {},
   "outputs": [],
   "source": [
    "sessionInfo()"
   ]
  }
 ],
 "metadata": {
  "kernelspec": {
   "display_name": "R",
   "language": "R",
   "name": "ir"
  },
  "language_info": {
   "codemirror_mode": "r",
   "file_extension": ".r",
   "mimetype": "text/x-r-source",
   "name": "R",
   "pygments_lexer": "r",
   "version": "3.6.3"
  }
 },
 "nbformat": 4,
 "nbformat_minor": 4
}
