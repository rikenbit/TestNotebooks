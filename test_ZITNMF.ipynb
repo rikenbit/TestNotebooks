{
 "cells": [
  {
   "cell_type": "markdown",
   "metadata": {},
   "source": [
    "# Test code of ZITNMF Function"
   ]
  },
  {
   "cell_type": "markdown",
   "metadata": {},
   "source": [
    "## Dependent Packages Installation"
   ]
  },
  {
   "cell_type": "code",
   "execution_count": null,
   "metadata": {},
   "outputs": [],
   "source": [
    "if (!requireNamespace(\"testthat\", quietly = TRUE)){\n",
    "    install.packages(\"testthat\", repos=\"https://cran.r-project.org\")\n",
    "}\n",
    "library(\"testthat\")\n",
    "if (!requireNamespace(\"nnTensor\", quietly = TRUE)){\n",
    "    install.packages(\"nnTensor\", repos=\"https://cran.r-project.org\")\n",
    "}\n",
    "library(\"nnTensor\")"
   ]
  },
  {
   "cell_type": "markdown",
   "metadata": {},
   "source": [
    "## ZITNMF Function (Paste your ZITNMF code here)"
   ]
  },
  {
   "cell_type": "code",
   "execution_count": null,
   "metadata": {},
   "outputs": [],
   "source": [
    "ZITNMF <- function(X, Z=NULL, pseudocount=1e-10,\n",
    "\tinitF=NULL, initA=NULL, fixF=FALSE, fixA=FALSE,\n",
    "    init = c(\"NMF\", \"ALS\", \"Random\"),\n",
    "\tJ=3, Beta=2, phi=1, thr=1e-10, num.iter=100, verbose=FALSE){\n",
    "    ######################################\n",
    "    # Argument Check\n",
    "    ######################################\n",
    "    .checkZITNMF(X, Z, pseudocount, initF, initA, fixF, fixA,\n",
    "        J, Beta, phi, thr, num.iter, verbose)\n",
    "    init <- match.arg(init)\n",
    "    ######################################\n",
    "    # Initialization\n",
    "    ######################################\n",
    "    int <- .initZITNMF(X, Z, pseudocount, initF, initA, J, Beta)\n",
    "    X <- int$X\n",
    "    E <- int$E\n",
    "    F <- int$F\n",
    "    A <- int$A\n",
    "    w <- int$w\n",
    "    RecError <- int$RecError\n",
    "    RelChange <- int$RelChange\n",
    "    ######################################\n",
    "    # Iteration\n",
    "    ######################################\n",
    "\titer <- 1\n",
    "    while ((RecError[iter] > thr) && (iter <= num.iter)) {\n",
    "    \t# Update Z\n",
    "    \tZ <- ...\n",
    "    \t# Update w\n",
    "    \tw <- mean(Z)\n",
    "    \tif(!fixF){\n",
    "\t\t\tnumerF <- ...\n",
    "\t\t\tdenomF <- ...\n",
    "\t\t\tF <- F * (numerF / denomF)^.rho(Beta)\n",
    "    \t}\n",
    "    \tif(!fixA){\n",
    "\t\t\tnumerA <- ...\n",
    "\t\t\tdenomA <- ...\n",
    "\t\t\tA <- A * (numerA / denomA)^.rho(Beta)\n",
    "    \t}\n",
    "        # After Update U, V\n",
    "        iter <- iter + 1\n",
    "        # ここは、LogLikelihoodの方が良いかもしれません\n",
    "        # （.recErrorは最小自乗誤差しか計算していないので）\n",
    "        X_bar <- nnTensor:::.recMatrix(F, A)\n",
    "        RecError[iter] <- nnTensor:::.recError(X, X_bar)\n",
    "        TrainRecError[iter] <- nnTensor:::.recError(Z*X, Z*X_bar)\n",
    "        TestRecError[iter] <- nnTensor:::.recError((1-Z)*X, (1-Z)*X_bar)\n",
    "        RelChange[iter] <- abs(pre_Error - RecError[iter]) / RecError[iter]\n",
    "        if (verbose) {\n",
    "            cat(paste0(iter-1, \" / \", num.iter, \" |Previous Error - Error| / Error = \",\n",
    "                RelChange[iter], \"\\n\"))\n",
    "        }\n",
    "        if (is.nan(RelChange[iter])) {\n",
    "            stop(\"NaN is generated. Please run again or change the parameters.\\n\")\n",
    "        }\n",
    "    }\n",
    "    names(RecError) <- c(\"offset\", 1:(iter-1))\n",
    "    names(TrainRecError) <- c(\"offset\", 1:(iter-1))\n",
    "    names(TestRecError) <- c(\"offset\", 1:(iter-1))\n",
    "    names(RelChange) <- c(\"offset\", 1:(iter-1))\n",
    "    list(F=F, A=A, Z=Z, w=w, RecError=RecError, TrainRecError=TrainRecError,\n",
    "    \tTestRecError=TestsRecError, RelChange=RelChange)\n",
    "}\n",
    "\n",
    "\n",
    ".checkZITNMF <- function(X, Z, pseudocount, initF, initA, fixF, fixA,\n",
    "    J, Beta, phi, thr, num.iter, verbose){\n",
    "    stopifnot(is.matrix(X))\n",
    "    if(!is.null(Z)){\n",
    "    \tstopifnot(identical(dim(X), dim(Z)))\n",
    "    }\n",
    "    stopifnot(is.numeric(pseudocount))\n",
    "    stopifnot(pseudocount >= 0)\n",
    "    if(!is.null(initF)){\n",
    "    \tstopifnot(is.matrix(initF))\n",
    "    \tstopifnot(dim(initF)[1] == nrow(X))\n",
    "    \tstopifnot(dim(initF)[2] == J)\n",
    "    }\n",
    "    if(!is.null(initA)){\n",
    "    \tstopifnot(is.matrix(initA))\n",
    "    \tstopifnot(dim(initA)[1] == J)\n",
    "    \tstopifnot(dim(initA)[2] == ncol(X))\n",
    "    }\n",
    "    stopifnot(is.logical(fixF))\n",
    "    stopifnot(is.logical(fixA))\n",
    "    stopifnot(is.numeric(J))\n",
    "    stopifnot(J <= min(dim(X)))\n",
    "    stopifnot(is.numetic(Beta))\n",
    "    stopifnot(is.numetic(phi))\n",
    "    stopifnot(is.numeric(thr))\n",
    "    stopifnot(thr > 0)\n",
    "    stopifnot(is.numetic(num.iter))\n",
    "    stopifnot(num.iter >= 0)\n",
    "    stopifnot(is.logical(verbose))\n",
    "}\n",
    "\n",
    ".initZITNMF <- function(X, Z, pseudocount, initF, initA, J, Beta){\n",
    "    X[which(X == 0)] <- pseudocount\n",
    "\tE <- X\n",
    "\tE[] <- 1\n",
    "\tif(is.null(initF) || is.null(initA)){\n",
    "\t\tif(init == \"NMF\"){\n",
    "\t\t    res.NMF <- NMF(X, J = J, algorithm = \"Beta\", Beta=Beta)\n",
    "\t\t    if(is.null(initF)){\n",
    "\t\t\t\tinitF <- res.NMF$U\n",
    "\t\t    }\n",
    "\t\t    if(is.null(initA)){\n",
    "\t\t\t\tinitA <- t(res.NMF$V)\n",
    "\t\t    }\t\t\t\n",
    "\t\t}\n",
    "\t\tif(init == \"ALS\"){\n",
    "\t\t\tres.ALS <- svd(X)\n",
    "\t\t    if(is.null(initF)){\n",
    "\t\t\t\tinitF <- nnTensor:::.positive(res.ALS$u[, seq(J)])\n",
    "\t\t    }\n",
    "\t\t    if(is.null(initA)){\n",
    "\t\t\t\tinitA <- t(nnTensor:::.positive(res.ALS$v[, seq(J)]))\n",
    "\t\t    }\t\t\t\t\t\t\n",
    "\t\t}\n",
    "\t\tif(init == \"Random\"){\n",
    "\t\t    if(is.null(initF)){\n",
    "\t\t\t\tinitF <- matrix(runif(nrow(X)*J), nrow=nrow(X), ncol=J)\n",
    "\t\t    }\n",
    "\t\t    if(is.null(initA)){\n",
    "\t\t\t\tinitA <- matrix(runif(J*ncol(X)), nrow=J, ncol=ncol(X))\n",
    "\t\t    }\t\t\t\t\t\t\n",
    "\t\t}\n",
    "\t}\n",
    "\tw <- ...\n",
    "\tlist(X=X, E=E, F=initF, A=initA, w=w)\n",
    "}\n",
    "\n",
    ".rho <- function(Beta){\n",
    "    if(Beta < 1){\n",
    "        rho_beta <- 1 / (2 - Beta)\n",
    "    }\n",
    "    if((1 <= Beta) && (Beta <= 2)){\n",
    "        rho_beta <- 1\n",
    "    }\n",
    "    if(Beta > 2){\n",
    "        rho_beta <- 1 / (Beta - 1)\n",
    "    }\n",
    "    rho_beta\n",
    "}"
   ]
  },
  {
   "cell_type": "markdown",
   "metadata": {},
   "source": [
    "## Simulation Dataset"
   ]
  },
  {
   "cell_type": "code",
   "execution_count": 1,
   "metadata": {},
   "outputs": [],
   "source": [
    "X <- nnTensor::toyModel(\"NMF\")"
   ]
  },
  {
   "cell_type": "markdown",
   "metadata": {},
   "source": [
    "## Perform ZITNMF against Simulation Dataset"
   ]
  },
  {
   "cell_type": "code",
   "execution_count": null,
   "metadata": {},
   "outputs": [],
   "source": [
    "J <- 5\n",
    "out.Frobenius <- ZITNMF(X, J=J, Beta=2)\n",
    "out.KL <- ZITNMF(X, J=J, Beta=1)\n",
    "out.IS <- ZITNMF(X, J=J, Beta=0)"
   ]
  },
  {
   "cell_type": "markdown",
   "metadata": {},
   "source": [
    "## Test Input object / type"
   ]
  },
  {
   "cell_type": "markdown",
   "metadata": {},
   "source": [
    "### Test I-1: Object Names"
   ]
  },
  {
   "cell_type": "code",
   "execution_count": null,
   "metadata": {},
   "outputs": [],
   "source": [
    "expect_identical(names(formals(ZITNMF)),\n",
    "\tc(\"X\", \"Z\" ,\"pseudocount\", \"initF\", \"initA\", \"fixF\", \"fixA\",\n",
    "\t\t\"init\", \"J\", \"Beta\", \"phi\", \"thr\", \"num.iter\", \"verbose\"))"
   ]
  },
  {
   "cell_type": "markdown",
   "metadata": {},
   "source": [
    "### Test I-2: X"
   ]
  },
  {
   "cell_type": "code",
   "execution_count": null,
   "metadata": {},
   "outputs": [],
   "source": [
    "expect_identical(as.character(formals(ZITNMF)$X), \"\")"
   ]
  },
  {
   "cell_type": "markdown",
   "metadata": {},
   "source": [
    "### Test I-3: Z"
   ]
  },
  {
   "cell_type": "code",
   "execution_count": null,
   "metadata": {},
   "outputs": [],
   "source": [
    "expect_identical(formals(ZITNMF)$Z, NULL)"
   ]
  },
  {
   "cell_type": "markdown",
   "metadata": {},
   "source": [
    "### Test I-4: pseudocount"
   ]
  },
  {
   "cell_type": "code",
   "execution_count": null,
   "metadata": {},
   "outputs": [],
   "source": [
    "expect_identical(formals(ZITNMF)$pseudocount, 1e-10)"
   ]
  },
  {
   "cell_type": "markdown",
   "metadata": {},
   "source": [
    "### Test I-5: initF"
   ]
  },
  {
   "cell_type": "code",
   "execution_count": null,
   "metadata": {},
   "outputs": [],
   "source": [
    "expect_identical(formals(ZITNMF)$initF, NULL)"
   ]
  },
  {
   "cell_type": "markdown",
   "metadata": {},
   "source": [
    "### Test I-6: initA"
   ]
  },
  {
   "cell_type": "markdown",
   "metadata": {},
   "source": [
    "expect_identical(formals(ZITNMF)$initA, NULL)"
   ]
  },
  {
   "cell_type": "markdown",
   "metadata": {},
   "source": [
    "### Test I-7: fixF"
   ]
  },
  {
   "cell_type": "code",
   "execution_count": null,
   "metadata": {},
   "outputs": [],
   "source": [
    "expect_identical(formals(ZITNMF)$fixF, FALSE)"
   ]
  },
  {
   "cell_type": "markdown",
   "metadata": {},
   "source": [
    "### Test I-8: fixA"
   ]
  },
  {
   "cell_type": "code",
   "execution_count": null,
   "metadata": {},
   "outputs": [],
   "source": [
    "expect_identical(formals(ZITNMF)$fixA, FALSE)"
   ]
  },
  {
   "cell_type": "markdown",
   "metadata": {},
   "source": [
    "### Test I-9: init"
   ]
  },
  {
   "cell_type": "code",
   "execution_count": null,
   "metadata": {},
   "outputs": [],
   "source": [
    "expect_identical(formals(ZITNMF)$init, c(\"NMF\", \"ALS\", \"Random\"))"
   ]
  },
  {
   "cell_type": "markdown",
   "metadata": {},
   "source": [
    "### Test I-10: J"
   ]
  },
  {
   "cell_type": "code",
   "execution_count": null,
   "metadata": {},
   "outputs": [],
   "source": [
    "expect_identical(formals(ZITNMF)$J, 3)"
   ]
  },
  {
   "cell_type": "markdown",
   "metadata": {},
   "source": [
    "### Test I-11: Beta"
   ]
  },
  {
   "cell_type": "code",
   "execution_count": null,
   "metadata": {},
   "outputs": [],
   "source": [
    "expect_identical(formals(ZITNMF)$Beta, 2)"
   ]
  },
  {
   "cell_type": "markdown",
   "metadata": {},
   "source": [
    "### Test I-12: phi"
   ]
  },
  {
   "cell_type": "code",
   "execution_count": null,
   "metadata": {},
   "outputs": [],
   "source": [
    "expect_identical(formals(ZITNMF)$phi, 1)"
   ]
  },
  {
   "cell_type": "markdown",
   "metadata": {},
   "source": [
    "### Test I-13: thr"
   ]
  },
  {
   "cell_type": "code",
   "execution_count": null,
   "metadata": {},
   "outputs": [],
   "source": [
    "expect_identical(formals(ZITNMF)$thr, 1e-10)"
   ]
  },
  {
   "cell_type": "markdown",
   "metadata": {},
   "source": [
    "### Test I-14: num.iter"
   ]
  },
  {
   "cell_type": "code",
   "execution_count": null,
   "metadata": {},
   "outputs": [],
   "source": [
    "expect_identical(formals(ZITNMF)$num.iter, 100)"
   ]
  },
  {
   "cell_type": "markdown",
   "metadata": {},
   "source": [
    "### Test I-15: verbose"
   ]
  },
  {
   "cell_type": "code",
   "execution_count": null,
   "metadata": {},
   "outputs": [],
   "source": [
    "expect_identical(formals(ZITNMF)$verbose, FALSE)"
   ]
  },
  {
   "cell_type": "markdown",
   "metadata": {},
   "source": [
    "## Test Output object / type"
   ]
  },
  {
   "cell_type": "markdown",
   "metadata": {},
   "source": [
    "### Test O-1: Object"
   ]
  },
  {
   "cell_type": "code",
   "execution_count": null,
   "metadata": {},
   "outputs": [],
   "source": [
    "expect_identical(is.list(out.Frobenius), TRUE)\n",
    "expect_identical(is.list(out.KL), TRUE)\n",
    "expect_identical(is.list(out.IS), TRUE)"
   ]
  },
  {
   "cell_type": "markdown",
   "metadata": {},
   "source": [
    "### Test O-2: Object Names"
   ]
  },
  {
   "cell_type": "code",
   "execution_count": null,
   "metadata": {},
   "outputs": [],
   "source": [
    "expect_identical(names(out.Frobenius),\n",
    "    c(\"F\", \"A\", \"Z\", \"w\", \"RecError\", \"TrainRecError\", \"TestsRecError\", \"RelChange\"))\n",
    "expect_identical(names(out.KL),\n",
    "    c(\"F\", \"A\", \"Z\", \"w\", \"RecError\", \"TrainRecError\", \"TestsRecError\", \"RelChange\"))\n",
    "expect_identical(names(out.IS),\n",
    "    c(\"F\", \"A\", \"Z\", \"w\", \"RecError\", \"TrainRecError\", \"TestsRecError\", \"RelChange\"))"
   ]
  },
  {
   "cell_type": "markdown",
   "metadata": {},
   "source": [
    "### Test 0-3: F"
   ]
  },
  {
   "cell_type": "code",
   "execution_count": null,
   "metadata": {},
   "outputs": [],
   "source": [
    "expect_identical(is.matrix(out.Frobenius$F), TRUE)\n",
    "expect_identical(is.matrix(out.KL$F), TRUE)\n",
    "expect_identical(is.matrix(out.IS$F), TRUE)\n",
    "\n",
    "expect_identical(dim(out.Frobenius$F), c(nrow(X), J))\n",
    "expect_identical(dim(out.KL$F), c(nrow(X), J))\n",
    "expect_identical(dim(out.IS$F), c(nrow(X), J))"
   ]
  },
  {
   "cell_type": "markdown",
   "metadata": {},
   "source": [
    "### Test 0-4: A"
   ]
  },
  {
   "cell_type": "code",
   "execution_count": null,
   "metadata": {},
   "outputs": [],
   "source": [
    "expect_identical(is.matrix(out.Frobenius$A), TRUE)\n",
    "expect_identical(is.matrix(out.KL$A), TRUE)\n",
    "expect_identical(is.matrix(out.IS$A), TRUE)\n",
    "\n",
    "expect_identical(dim(out.Frobenius$A), c(J, ncol(X)))\n",
    "expect_identical(dim(out.KL$A), c(J, ncol(X)))\n",
    "expect_identical(dim(out.IS$A), c(J, ncol(X)))"
   ]
  },
  {
   "cell_type": "markdown",
   "metadata": {},
   "source": [
    "### Test 0-5: Z"
   ]
  },
  {
   "cell_type": "code",
   "execution_count": null,
   "metadata": {},
   "outputs": [],
   "source": [
    "expect_identical(is.matrix(out.Frobenius$Z), TRUE)\n",
    "expect_identical(is.matrix(out.KL$Z), TRUE)\n",
    "expect_identical(is.matrix(out.IS$Z), TRUE)\n",
    "\n",
    "expect_identical(dim(out.Frobenius$Z), dim(X))\n",
    "expect_identical(dim(out.KL$Z), dim(X))\n",
    "expect_identical(dim(out.IS$Z), dim(X))"
   ]
  },
  {
   "cell_type": "markdown",
   "metadata": {},
   "source": [
    "### Test O-6: w"
   ]
  },
  {
   "cell_type": "code",
   "execution_count": null,
   "metadata": {},
   "outputs": [],
   "source": [
    "expect_identical(is.vector(out.Frobenius$w), TRUE)\n",
    "expect_identical(is.vector(out.KL$w), TRUE)\n",
    "expect_identical(is.vector(out.IS$w), TRUE)\n",
    "\n",
    "expect_identical(length(out.Frobenius$w), 1)\n",
    "expect_identical(length(out.KL$w), 1)\n",
    "expect_identical(length(out.IS$w), 1)"
   ]
  },
  {
   "cell_type": "markdown",
   "metadata": {},
   "source": [
    "### Test 0-7: RecError"
   ]
  },
  {
   "cell_type": "code",
   "execution_count": null,
   "metadata": {},
   "outputs": [],
   "source": [
    "expect_identical(is.vector(out.Frobenius$RecError), TRUE)\n",
    "expect_identical(is.vector(out.KL$RecError), TRUE)\n",
    "expect_identical(is.vector(out.IS$RecError), TRUE)"
   ]
  },
  {
   "cell_type": "markdown",
   "metadata": {},
   "source": [
    "### Test O-8: TrainRecError"
   ]
  },
  {
   "cell_type": "code",
   "execution_count": null,
   "metadata": {},
   "outputs": [],
   "source": [
    "expect_identical(is.vector(out.Frobenius$TrainRecError), TRUE)\n",
    "expect_identical(is.vector(out.KL$TrainRecError), TRUE)\n",
    "expect_identical(is.vector(out.IS$TrainRecError), TRUE)"
   ]
  },
  {
   "cell_type": "markdown",
   "metadata": {},
   "source": [
    "### Test O-9: TestRecError"
   ]
  },
  {
   "cell_type": "code",
   "execution_count": null,
   "metadata": {},
   "outputs": [],
   "source": [
    "expect_identical(is.vector(out.Frobenius$TestsRecError), TRUE)\n",
    "expect_identical(is.vector(out.KL$TestsRecError), TRUE)\n",
    "expect_identical(is.vector(out.IS$TestsRecError), TRUE)"
   ]
  },
  {
   "cell_type": "markdown",
   "metadata": {},
   "source": [
    "### Test 0-10: RelChange"
   ]
  },
  {
   "cell_type": "code",
   "execution_count": null,
   "metadata": {},
   "outputs": [],
   "source": [
    "expect_identical(is.vector(out.Frobenius$RelChange), TRUE)\n",
    "expect_identical(is.vector(out.KL$RelChange), TRUE)\n",
    "expect_identical(is.vector(out.IS$RelChange), TRUE)"
   ]
  },
  {
   "cell_type": "markdown",
   "metadata": {},
   "source": [
    "## Test Error"
   ]
  },
  {
   "cell_type": "markdown",
   "metadata": {},
   "source": [
    "### Test E-1: X"
   ]
  },
  {
   "cell_type": "code",
   "execution_count": null,
   "metadata": {},
   "outputs": [],
   "source": [
    "expect_error(ZITNMF(as.data.frame(X), J=J))"
   ]
  },
  {
   "cell_type": "markdown",
   "metadata": {},
   "source": [
    "### Test E-2: Z"
   ]
  },
  {
   "cell_type": "code",
   "execution_count": null,
   "metadata": {},
   "outputs": [],
   "source": [
    "expect_error(ZITNMF(X, Z=cbind(X, X)))"
   ]
  },
  {
   "cell_type": "markdown",
   "metadata": {},
   "source": [
    "### Test E-3: pseudocount"
   ]
  },
  {
   "cell_type": "code",
   "execution_count": null,
   "metadata": {},
   "outputs": [],
   "source": [
    "expect_error(ZITNMF(X, pseudocount=\"0.1\"))\n",
    "expect_error(ZITNMF(X, pseudocount=-0.1))"
   ]
  },
  {
   "cell_type": "markdown",
   "metadata": {},
   "source": [
    "### Test E-4: initF"
   ]
  },
  {
   "cell_type": "code",
   "execution_count": null,
   "metadata": {},
   "outputs": [],
   "source": [
    "expect_error(ZITNMF(X, initF=X))\n",
    "expect_error(ZITNMF(X, initF=NA))"
   ]
  },
  {
   "cell_type": "markdown",
   "metadata": {},
   "source": [
    "### Test E-5: initA"
   ]
  },
  {
   "cell_type": "code",
   "execution_count": null,
   "metadata": {},
   "outputs": [],
   "source": [
    "expect_error(ZITNMF(X, initA=X))\n",
    "expect_error(ZITNMF(X, initA=NA))"
   ]
  },
  {
   "cell_type": "markdown",
   "metadata": {},
   "source": [
    "### Test E-6: fixF"
   ]
  },
  {
   "cell_type": "code",
   "execution_count": null,
   "metadata": {},
   "outputs": [],
   "source": [
    "expect_error(ZITNMF(X, fixF=X))\n",
    "expect_error(ZITNMF(X, fixF=NA))"
   ]
  },
  {
   "cell_type": "markdown",
   "metadata": {},
   "source": [
    "### Test E-7: fixA"
   ]
  },
  {
   "cell_type": "code",
   "execution_count": null,
   "metadata": {},
   "outputs": [],
   "source": [
    "expect_error(ZITNMF(X, fixA=X))\n",
    "expect_error(ZITNMF(X, fixA=NA))"
   ]
  },
  {
   "cell_type": "markdown",
   "metadata": {},
   "source": [
    "### Test E-8: init"
   ]
  },
  {
   "cell_type": "code",
   "execution_count": null,
   "metadata": {},
   "outputs": [],
   "source": [
    "expect_error(ZITNMF(X, init=\"NMFF\"))"
   ]
  },
  {
   "cell_type": "markdown",
   "metadata": {},
   "source": [
    "### Test E-9: J"
   ]
  },
  {
   "cell_type": "code",
   "execution_count": null,
   "metadata": {},
   "outputs": [],
   "source": [
    "expect_error(ZITNMF(X, J=\"5\"))\n",
    "expect_error(ZITNMF(X, J=c(2,4)))\n",
    "expect_error(ZITNMF(X, J=10^10)"
   ]
  },
  {
   "cell_type": "markdown",
   "metadata": {},
   "source": [
    "### Test E-10: Beta"
   ]
  },
  {
   "cell_type": "code",
   "execution_count": null,
   "metadata": {},
   "outputs": [],
   "source": [
    "expect_error(ZITNMF(X, J=J, Beta=\"0.1\"))\n",
    "expect_error(ZITNMF(X, J=J, Beta=TRUE))"
   ]
  },
  {
   "cell_type": "markdown",
   "metadata": {},
   "source": [
    "### Test E-11: phi"
   ]
  },
  {
   "cell_type": "code",
   "execution_count": null,
   "metadata": {},
   "outputs": [],
   "source": [
    "expect_error(ZITNMF(X, J=J, phi=\"0.1\"))"
   ]
  },
  {
   "cell_type": "markdown",
   "metadata": {},
   "source": [
    "### Test E-12: thr"
   ]
  },
  {
   "cell_type": "code",
   "execution_count": null,
   "metadata": {},
   "outputs": [],
   "source": [
    "expect_error(ZITNMF(X, J=J, thr=\"0.1\"))\n",
    "expect_error(ZITNMF(X, J=J, thr=-2.3))"
   ]
  },
  {
   "cell_type": "markdown",
   "metadata": {},
   "source": [
    "### Test E-13: num.iter"
   ]
  },
  {
   "cell_type": "code",
   "execution_count": null,
   "metadata": {},
   "outputs": [],
   "source": [
    "expect_error(ZITNMF(X, J=J, num.iter=\"100\"))\n",
    "expect_error(ZITNMF(X, J=J, num.iter=-1))"
   ]
  },
  {
   "cell_type": "markdown",
   "metadata": {},
   "source": [
    "### Test E-14: verbose"
   ]
  },
  {
   "cell_type": "code",
   "execution_count": null,
   "metadata": {},
   "outputs": [],
   "source": [
    "expect_error(ZITNMF(X, J=J, verbose=\"verbose\"))"
   ]
  },
  {
   "cell_type": "markdown",
   "metadata": {},
   "source": [
    "## Test Decrease of Error"
   ]
  },
  {
   "cell_type": "markdown",
   "metadata": {},
   "source": [
    "### Test D-1: RecError"
   ]
  },
  {
   "cell_type": "code",
   "execution_count": null,
   "metadata": {},
   "outputs": [],
   "source": [
    ".sampleRank <- function(x){\n",
    "\trank(c(x[2], median(x), rev(x)[1]))\n",
    "}\n",
    "\n",
    "expect_identical(.sampleRank(out.Frobenius$RecError), 3:1)\n",
    "expect_identical(.sampleRank(out.KL$RecError), 3:1)\n",
    "expect_identical(.sampleRank(out.IS$RecError), 3:1)"
   ]
  },
  {
   "cell_type": "markdown",
   "metadata": {},
   "source": [
    "### Test D-2: RelChange"
   ]
  },
  {
   "cell_type": "code",
   "execution_count": null,
   "metadata": {},
   "outputs": [],
   "source": [
    "expect_identical(.sampleRank(out.Frobenius$RelChange), 3:1)\n",
    "expect_identical(.sampleRank(out.KL$RelChange), 3:1)\n",
    "expect_identical(.sampleRank(out.IS$RelChange), 3:1)"
   ]
  },
  {
   "cell_type": "markdown",
   "metadata": {},
   "source": [
    "## Session Information"
   ]
  },
  {
   "cell_type": "code",
   "execution_count": null,
   "metadata": {},
   "outputs": [],
   "source": [
    "sessionInfo()"
   ]
  }
 ],
 "metadata": {
  "kernelspec": {
   "display_name": "R",
   "language": "R",
   "name": "ir"
  },
  "language_info": {
   "codemirror_mode": "r",
   "file_extension": ".r",
   "mimetype": "text/x-r-source",
   "name": "R",
   "pygments_lexer": "r",
   "version": "4.1.0"
  }
 },
 "nbformat": 4,
 "nbformat_minor": 4
}
