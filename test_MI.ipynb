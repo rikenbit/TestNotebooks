{
 "cells": [
  {
   "cell_type": "markdown",
   "id": "0209949e-e579-4eb0-88db-6880559b415b",
   "metadata": {},
   "source": [
    "# Test code of MI Function"
   ]
  },
  {
   "cell_type": "markdown",
   "id": "48c40806-e773-48bb-8514-b0716289ccec",
   "metadata": {},
   "source": [
    "## Dependent Packages Installation"
   ]
  },
  {
   "cell_type": "code",
   "execution_count": 8,
   "id": "24510ef1-e8cf-4cae-a3f5-76a68b13fca9",
   "metadata": {},
   "outputs": [],
   "source": [
    "if (!requireNamespace(\"testthat\", quietly = TRUE)){\n",
    "    install.packages(\"testthat\", repos=\"https://cran.r-project.org\")\n",
    "}\n",
    "library(\"testthat\")\n",
    "if (!requireNamespace(\"Rcpp\", quietly = TRUE)){\n",
    "    install.packages(\"Rcpp\", repos=\"https://cran.r-project.org\")\n",
    "}\n",
    "library(\"Rcpp\")\n",
    "if (!requireNamespace(\"infotheo\", quietly = TRUE)){\n",
    "    install.packages(\"infotheo\", repos=\"https://cran.r-project.org\")\n",
    "}\n",
    "library(\"infotheo\")"
   ]
  },
  {
   "cell_type": "markdown",
   "id": "5bc74ffa-cf32-4912-903c-a6826299b18a",
   "metadata": {},
   "source": [
    "## MI Function (Paste your MI code here)"
   ]
  },
  {
   "cell_type": "code",
   "execution_count": null,
   "id": "22208d4d-83fb-4f84-aa3e-238498f86ba5",
   "metadata": {},
   "outputs": [],
   "source": [
    "MI <- function(X, pseudocount=1e-10,\n",
    "    algorithm = c(\"fastpairmi\", \"hist\", \"knn\"),\n",
    "    h=0.1, # Window Size of Gauss Kernel used in \"fastpairmi\"\n",
    "    size=20, # Number of histgrams used in \"hist\"\n",
    "    k=5, # Number of neighborhoods used in \"knn\"\n",
    "    # 必要に応じて適宜パラメーターを追加\n",
    "\tverbose=FALSE){\n",
    "    ######################################\n",
    "    # Argument Check\n",
    "    ######################################\n",
    "    .checkMI(X, h, size, k, verbose)\n",
    "    algorithm <- match.arg(algorithm)\n",
    "    ######################################\n",
    "    # Initialization\n",
    "    #######################################\n",
    "    int <- .initMI(X)\n",
    "    X <- int$X\n",
    "    ######################################\n",
    "    # MI Calculation\n",
    "    #######################################\n",
    "    .MI_METHODS[algorithm](X, h, size, k)\n",
    "}\n",
    "\n",
    "# 必要に応じて適宜パラメーターチェックを追加\n",
    ".checkMI <- function(X, h, size, k, verbose){\n",
    "    stopifnot(is.matrix(X))\n",
    "    stopifnot(is.numeric(h))\n",
    "    stopifnot(h > 0)\n",
    "    stopifnot(is.numeric(size))\n",
    "    stopifnot(size > 0)\n",
    "    stopifnot(size %% 1 == 0)\n",
    "    stopifnot(is.numeric(k))\n",
    "    stopifnot(k > 0)\n",
    "    stopifnot(k %% 1 == 0)\n",
    "    stopifnot(is.logical(verbose))\n",
    "}\n",
    "\n",
    ".initMI <- function(X){\n",
    "    # Xに前処理などあれば\n",
    "}\n",
    "\n",
    "\n",
    "\n",
    ".FastPairMI <- function(X, h, size, k){\n",
    "    # FastPairMIの具体的な実装（C++コード呼び出し）\n",
    "}\n",
    "\n",
    ".HistMI <- function(X, h, size, k){\n",
    "    # ヒストグラムベースのMIの具体的な実装\n",
    "}\n",
    "\n",
    ".kNNMI <- function(X, h, size, k){\n",
    "    # kNNベースのMIの具体的な実装\n",
    "}\n",
    "\n",
    ".MI_METHODS <- list(\n",
    "    \"fastpairmi\" = .FastPairMI,\n",
    "    \"hist\" = .HistMI,\n",
    "    \"knn\" = .kNNMI)"
   ]
  },
  {
   "cell_type": "markdown",
   "id": "d7b4b52e-7d4f-4da1-ab79-74080e919ee9",
   "metadata": {},
   "source": [
    "## Simulation Dataset"
   ]
  },
  {
   "cell_type": "code",
   "execution_count": 4,
   "id": "18d5e794-d381-408b-9965-d90b4bb726b3",
   "metadata": {},
   "outputs": [],
   "source": [
    "N <- 1000 # Number of Data (e.g., Gene)\n",
    "M <- 300 # Number of Dimension (e.g., Cell Pairs)\n",
    "X <- matrix(runif(N*M), nrow=N, ncol=M)"
   ]
  },
  {
   "cell_type": "markdown",
   "id": "586a770c-8842-41bd-9e18-4c237df2f35b",
   "metadata": {},
   "source": [
    "## Perform MI against Simulation Dataset"
   ]
  },
  {
   "cell_type": "code",
   "execution_count": null,
   "id": "9e818a3d-a198-4f6e-94a7-9deceafe5f15",
   "metadata": {},
   "outputs": [],
   "source": [
    "outFastPairMI <- MI(X, algorithm=\"fastpairmi\")\n",
    "outHistMI <- MI(X, algorithm=\"hist\")\n",
    "outkNNMI <- MI(X, algorithm=\"knn\")"
   ]
  },
  {
   "cell_type": "markdown",
   "id": "a3d9def0-1587-4bca-8db0-7d65fc947323",
   "metadata": {},
   "source": [
    "## Test Input object / type"
   ]
  },
  {
   "cell_type": "markdown",
   "id": "63d56e18-e54f-42ee-ad0e-da88bb5a0c76",
   "metadata": {},
   "source": [
    "### Test I-1: Object Names"
   ]
  },
  {
   "cell_type": "code",
   "execution_count": null,
   "id": "b381eab1-9c19-41f3-9abc-2d04269e467d",
   "metadata": {},
   "outputs": [],
   "source": [
    "expect_identical(names(formals(MI)),\n",
    "    c(\"X\", \"algorithm\", \"h\", \"size\", \"k\", \"verbose\"))"
   ]
  },
  {
   "cell_type": "markdown",
   "id": "cd694a66-b676-4a58-81db-778d53359e4d",
   "metadata": {},
   "source": [
    "### Test I-2: X"
   ]
  },
  {
   "cell_type": "code",
   "execution_count": null,
   "id": "7e742e59-15ce-4c05-91ac-806d1f20babd",
   "metadata": {},
   "outputs": [],
   "source": [
    "expect_identical(as.character(formals(MI)$X), \"\")"
   ]
  },
  {
   "cell_type": "markdown",
   "id": "231b38e9-7a47-4afd-a931-bc5df5be1e62",
   "metadata": {},
   "source": [
    "### Test I-3: algorithm"
   ]
  },
  {
   "cell_type": "code",
   "execution_count": null,
   "id": "b89b96d3-7867-439f-b95e-47f2f92765da",
   "metadata": {},
   "outputs": [],
   "source": [
    "expect_identical(formals(MI)$algorithm, c(\"fastpairmi\", \"hist\", \"knn\"))"
   ]
  },
  {
   "cell_type": "markdown",
   "id": "1c6c68d1-15f0-49b7-8d35-3708fb12963b",
   "metadata": {},
   "source": [
    "### Test I-4: h"
   ]
  },
  {
   "cell_type": "code",
   "execution_count": null,
   "id": "1374b9bb-3936-4019-940f-1a61b9dd9f37",
   "metadata": {},
   "outputs": [],
   "source": [
    "expect_identical(formals(MI)$h, 0.1)"
   ]
  },
  {
   "cell_type": "markdown",
   "id": "4ab24472-cf4c-4e56-9bf8-4b9ece70bf58",
   "metadata": {},
   "source": [
    "### Test I-5: size"
   ]
  },
  {
   "cell_type": "code",
   "execution_count": null,
   "id": "61926c9a-29f3-40cd-878f-437f0aaf7aba",
   "metadata": {},
   "outputs": [],
   "source": [
    "expect_identical(formals(MI)$size, 20)"
   ]
  },
  {
   "cell_type": "markdown",
   "id": "c219cc6b-8df3-4b77-8050-3f2ee0107b8e",
   "metadata": {},
   "source": [
    "### Test I-6: k"
   ]
  },
  {
   "cell_type": "code",
   "execution_count": null,
   "id": "f0cb2d32-2ec0-4194-a3f3-3830b71ffd18",
   "metadata": {},
   "outputs": [],
   "source": [
    "expect_identical(formals(MI)$k, 5)"
   ]
  },
  {
   "cell_type": "markdown",
   "id": "2b3e574b-527c-408c-bdcc-143f5a4bc5ad",
   "metadata": {},
   "source": [
    "### Test I-7: verbose"
   ]
  },
  {
   "cell_type": "code",
   "execution_count": null,
   "id": "c83dda64-196e-41ff-97e9-d76e982263bd",
   "metadata": {},
   "outputs": [],
   "source": [
    "expect_identical(formals(MI)$verbose, FALSE)"
   ]
  },
  {
   "cell_type": "markdown",
   "id": "01d48732-d116-4662-96a9-a8e0621f30fa",
   "metadata": {},
   "source": [
    "## Test Output object / type"
   ]
  },
  {
   "cell_type": "markdown",
   "id": "c7a97b98-1e04-4a13-9b34-d3ce5e6a4444",
   "metadata": {},
   "source": [
    "### Test O-1: Object"
   ]
  },
  {
   "cell_type": "code",
   "execution_count": null,
   "id": "8514269d-dcff-40f2-a76b-b26e16cf9cc5",
   "metadata": {},
   "outputs": [],
   "source": [
    "expect_identical(is.list(outFastPairMI), TRUE)\n",
    "expect_identical(is.list(outHistMI), TRUE)\n",
    "expect_identical(is.list(outKNNMI), TRUE)"
   ]
  },
  {
   "cell_type": "markdown",
   "id": "118f6b2f-f38d-44b4-9621-73f465a0fbc7",
   "metadata": {},
   "source": [
    "### Test O-2: Object Size"
   ]
  },
  {
   "cell_type": "code",
   "execution_count": null,
   "id": "5bdb2dfb-20b5-4159-97cb-781dd377f661",
   "metadata": {},
   "outputs": [],
   "source": [
    "expect_identical(dim(outFastPairMI), c(N, N))\n",
    "expect_identical(dim(outHistMI), c(N, N))\n",
    "expect_identical(dim(outKNNMI), c(N, N))"
   ]
  },
  {
   "cell_type": "markdown",
   "id": "52463cf2-0cab-4522-ae2a-19b79e31cdc7",
   "metadata": {},
   "source": [
    "## Test Error"
   ]
  },
  {
   "cell_type": "markdown",
   "id": "c9660cff-b409-40c0-9c41-7e1a3685f43c",
   "metadata": {},
   "source": [
    "### Test E-1: X"
   ]
  },
  {
   "cell_type": "code",
   "execution_count": null,
   "id": "ca9f6348-e73e-42ef-92b7-3f971393864f",
   "metadata": {},
   "outputs": [],
   "source": [
    "expect_error(MI(as.data.frame(X)))"
   ]
  },
  {
   "cell_type": "markdown",
   "id": "9c7432e4-42c0-403b-bfea-983d323cff63",
   "metadata": {},
   "source": [
    "### Test E-2: h"
   ]
  },
  {
   "cell_type": "code",
   "execution_count": null,
   "id": "81b3f101-b3e6-4091-b499-550fe8660524",
   "metadata": {},
   "outputs": [],
   "source": [
    "expect_error(MI(X, h=\"0.4\"))\n",
    "expect_error(MI(X, h=-2.3))"
   ]
  },
  {
   "cell_type": "markdown",
   "id": "1cbbbc9a-e188-4371-baef-c6430452f14a",
   "metadata": {},
   "source": [
    "### Test E-2: size"
   ]
  },
  {
   "cell_type": "code",
   "execution_count": null,
   "id": "25a3b15b-d145-4451-932e-8a5f1af4a605",
   "metadata": {},
   "outputs": [],
   "source": [
    "expect_error(MI(X, size=\"20\"))\n",
    "expect_error(MI(X, size=-5))"
   ]
  },
  {
   "cell_type": "markdown",
   "id": "666cdbf7-c668-4b12-9832-a92c49e162dd",
   "metadata": {},
   "source": [
    "### Test E-2: k"
   ]
  },
  {
   "cell_type": "code",
   "execution_count": null,
   "id": "d2b39202-2092-46ec-81eb-89214f723d8a",
   "metadata": {},
   "outputs": [],
   "source": [
    "expect_error(MI(X, k=\"2\"))\n",
    "expect_error(MI(X, k=-3))"
   ]
  },
  {
   "cell_type": "markdown",
   "id": "35c070a8-79c9-4b0f-84a0-abb15b868610",
   "metadata": {},
   "source": [
    "### Test E-2: verbose"
   ]
  },
  {
   "cell_type": "code",
   "execution_count": null,
   "id": "4a498b28-cf6e-4b2b-8370-974c9c4fe705",
   "metadata": {},
   "outputs": [],
   "source": [
    "expect_error(MI(X, verbose=\"verbose\"))"
   ]
  },
  {
   "cell_type": "markdown",
   "id": "7e77c4df-f330-4d10-9b34-167f8d407202",
   "metadata": {},
   "source": [
    "## Test Speed"
   ]
  },
  {
   "cell_type": "code",
   "execution_count": null,
   "id": "d04a1018-1782-414b-ac03-a4534c1ffc6c",
   "metadata": {},
   "outputs": [],
   "source": [
    "# 連続量データ\n",
    "X_small <- matrix(runif(10*30*10), nrow=10, ncol=30*10)\n",
    "X_medium <- matrix(runif(100*30*10), nrow=100, ncol=30*10)\n",
    "X_large <- matrix(runif(1000*30*10), nrow=1000, ncol=30*10)\n",
    "\n",
    "# 離散化済みデータを想定\n",
    "dX_small <- matrix(rbinom(10*30*10,2,0.5), nrow=10, ncol=30*10)\n",
    "dX_medium <- matrix(rbinom(100*30*10,2,0.5), nrow=100, ncol=30*10)\n",
    "dX_large <- matrix(rbinom(1000*30*10,2,0.5), nrow=1000, ncol=30*10)\n",
    "\n",
    "# MI by infortheo\n",
    "dPairMI <- function(X){\n",
    "\tapply(X, 1, function(x) apply(X, 1, function(xx) mutinformation(x, xx)))\n",
    "}\n",
    "\n",
    "out_small <- system.time(dPairMI(dX_small))[3] # 0.028 (s)\n",
    "out_medium <- system.time(dPairMI(dX_medium))[3] # 2.689 (s)\n",
    "out_large <- system.time(dPairMI(dX_large))[3] # 270.726 (s)\n",
    "\n",
    "# Test MI Algorithms' speed\n",
    "expect_true(system.time(MI(X_small, algorithm=\"fastpairmi\")) < out_small / 10)\n",
    "expect_true(system.time(MI(X_medium, algorithm=\"fastpairmi\")) < out_medium / 10)\n",
    "expect_true(system.time(MI(X_large, algorithm=\"fastpairmi\")) < out_large / 10)\n",
    "expect_true(system.time(MI(X_small, algorithm=\"hist\")) < out_small / 10)\n",
    "expect_true(system.time(MI(X_medium, algorithm=\"hist\")) < out_medium / 10)\n",
    "expect_true(system.time(MI(X_large, algorithm=\"hist\")) < out_large / 10)\n",
    "expect_true(system.time(MI(X_small, algorithm=\"knn\")) < out_small / 10)\n",
    "expect_true(system.time(MI(X_medium, algorithm=\"knn\")) < out_medium / 10)\n",
    "expect_true(system.time(MI(X_large, algorithm=\"knn\")) < out_large / 10)"
   ]
  },
  {
   "cell_type": "markdown",
   "id": "f77120ed-9f9c-4673-b2e3-1dd69b75e083",
   "metadata": {
    "tags": []
   },
   "source": [
    "## Test Accuracy"
   ]
  },
  {
   "cell_type": "code",
   "execution_count": null,
   "id": "d35d6d57-e70e-47b5-a303-58ceb34b026b",
   "metadata": {},
   "outputs": [],
   "source": [
    "・でたらめな結果を出力しているわけではないことを示すテスト\n",
    "・例: ランダムなデータの中に、非線形な依存関係がある変数ペアを埋め込んで、MIの値が実際に大きくなるか\n",
    "・例: 原著論文で行われた検証の再現"
   ]
  },
  {
   "cell_type": "markdown",
   "id": "96ee9dcd-9a5b-4c0f-9ea6-3cb266abc328",
   "metadata": {},
   "source": [
    "## Session Information"
   ]
  },
  {
   "cell_type": "code",
   "execution_count": null,
   "id": "f51df0a0-dcac-4b9d-885f-d7555de8a63e",
   "metadata": {},
   "outputs": [],
   "source": [
    "sessionInfo()"
   ]
  }
 ],
 "metadata": {
  "kernelspec": {
   "display_name": "R",
   "language": "R",
   "name": "ir"
  },
  "language_info": {
   "codemirror_mode": "r",
   "file_extension": ".r",
   "mimetype": "text/x-r-source",
   "name": "R",
   "pygments_lexer": "r",
   "version": "4.2.3"
  }
 },
 "nbformat": 4,
 "nbformat_minor": 5
}
