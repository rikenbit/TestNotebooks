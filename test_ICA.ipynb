{
 "cells": [
  {
   "cell_type": "markdown",
   "metadata": {},
   "source": [
    "# Test code of ICA Function"
   ]
  },
  {
   "cell_type": "markdown",
   "metadata": {},
   "source": [
    "## Dependent Packages Installation"
   ]
  },
  {
   "cell_type": "code",
   "execution_count": 5,
   "metadata": {},
   "outputs": [],
   "source": [
    "if (!requireNamespace(\"testthat\", quietly = TRUE)){\n",
    "    install.packages(\"testthat\", repos=\"https://cran.r-project.org\")\n",
    "}\n",
    "library(\"testthat\")"
   ]
  },
  {
   "cell_type": "markdown",
   "metadata": {},
   "source": [
    "## ICA Function (Paste your ICA code here)"
   ]
  },
  {
   "cell_type": "code",
   "execution_count": 7,
   "metadata": {},
   "outputs": [],
   "source": [
    "ICA <- function(X, J,\n",
    "    algorithm=c(\"JADE\", \"AuxICA1\", \"AuxICA2\", \"IPCA\", \"SIMBEC\", \"AMUSE\",\n",
    "        \"SOBI\", \"FOBI\", \"ProDenICA\", \"RICA\"),\n",
    "    num.iter=30, thr=1E-10, verbose=FALSE){\n",
    "    ######################################\n",
    "    # Argument Check\n",
    "    ######################################\n",
    "    .checkICA(X, J, num.iter, thr, verbose)\n",
    "    algorithm <- match.arg(algorithm)\n",
    "    ######################################\n",
    "    # Initialization (e.g. Whiteniing)\n",
    "    ######################################\n",
    "    int <- .initICA(X, J)\n",
    "    X <- int$X\n",
    "    A <- int$A\n",
    "    S <- int$S\n",
    "    RecError <- int$RecError\n",
    "    RelChange <- int$RelChange\n",
    "    ######################################\n",
    "    # Iteration\n",
    "    ######################################\n",
    "    iter <- 1\n",
    "    while ((RelChange[iter] > thr) && (iter <= num.iter)) {\n",
    "        if(algorithm == \"JADE\"){\n",
    "        \tA <- .JADE(X, A, S, J)\n",
    "        }\n",
    "        if(algorithm == \"AuxICA1\"){\n",
    "            A <- .AuxICA1(X, A, S, J)\n",
    "        }\n",
    "        if(algorithm == \"AuxICA2\"){\n",
    "            A <- .AuxICA2(X, A, S, J)\n",
    "        }\n",
    "        if(algorithm == \"IPCA\"){\n",
    "            A <- .IPCA(X, A, S, J)\n",
    "        }\n",
    "        if(algorithm == \"SIMBEC\"){\n",
    "            A <- .SIMBEC(X, A, S, J)\n",
    "        }\n",
    "        if(algorithm == \"AMUSE\"){\n",
    "            A <- .AMUSE(X, A, S, J)\n",
    "        }\n",
    "        if(algorithm == \"SOBI\"){\n",
    "            A <- .SOBI(X, A, S, J)\n",
    "        }\n",
    "        if(algorithm == \"FOBI\"){\n",
    "            A <- .FOBI(X, A, S, J)\n",
    "        }\n",
    "        if(algorithm == \"ProDenICA\"){\n",
    "            A <- .ProDenICA(X, A, S, J)\n",
    "        }\n",
    "        if(algorithm == \"RICA\"){\n",
    "            A <- .RICA(X, A, S, J)\n",
    "        }\n",
    "        # After Update\n",
    "        S <- X %*% ginv(A)\n",
    "        X_bar <- A %*% S\n",
    "        iter <- iter + 1\n",
    "        RecError[iter] <- .recError(X, X_bar)\n",
    "        RelChange[iter] <- .relChange(iter, RecError)\n",
    "        # Verbose\n",
    "        if(verbose){\n",
    "             cat(paste0(iter, \" / \", num.iter,\n",
    "                \" |Previous Error - Error| / Error = \",\n",
    "                RelChange[iter], \"\\n\"))\n",
    "        }\n",
    "    }\n",
    "    # Output\n",
    "\tnames(RecError) <- c(\"offset\", 1:(iter - 1))\n",
    "    names(RelChange) <- c(\"offset\", 1:(iter - 1))\n",
    "\t# Output\n",
    "    list(A=A, S=S, J=J, algorithm=algorithm, num.iter=num.iter,\n",
    "    thr=thr, verbose=verbose, RecError=RecError, RelChange=RelChange)\n",
    "}\n",
    "\n",
    ".JADE <- function(X, A, S, J){\n",
    "    ...\n",
    "}\n",
    "\n",
    ".AuxICA1 <- function(X, A, S, J){\n",
    "    ...\n",
    "}\n",
    "\n",
    ".AuxICA2 <- function(X, A, S, J){\n",
    "    ...\n",
    "}\n",
    "\n",
    ".IPCA <- function(X, A, S, J){\n",
    "    ...\n",
    "}\n",
    "\n",
    ".SIMBEC <- function(X, A, S, J){\n",
    "    ...\n",
    "}\n",
    "\n",
    ".AMUSE <- function(X, A, S, J){\n",
    "    ...\n",
    "}\n",
    "\n",
    ".SOBI <- function(X, A, S, J){\n",
    "    ...\n",
    "}\n",
    "\n",
    ".FOBI <- function(X, A, S, J){\n",
    "    ...\n",
    "}\n",
    "\n",
    ".ProDenICA <- function(X, A, S, J){\n",
    "    ...\n",
    "}\n",
    "\n",
    ".RICA <- function(X, A, S, J){\n",
    "    ...\n",
    "}\n",
    "\n",
    ".checkICA <- function(X, J, num.iter, thr, verbose){\n",
    "\tstopifnot(is.matrix(X))\n",
    "\tstopifnot(is.numeric(J))\n",
    "\tstopifnot(length(J) == 1)\n",
    "\tstopifnot(min(dim(X)) >= J)\n",
    "\tstopifnot(is.numeric(num.iter))\n",
    "\tstopifnot(num.iter > 0)\n",
    "\tstopifnot(is.numeric(thr))\n",
    "\tstopifnot(is.logical(verbose))\n",
    "}\n",
    "\n",
    ".initICA <- function(X, J){\n",
    "\tX <- .whitening(X)\n",
    "\t# A/S\n",
    "\tnr <- nrow(X)\n",
    "\tA <- matrix(runif(nr*J), nrow=nr, ncol=J)\n",
    "\tS <- X %*% ginv(A)\n",
    "\tX_bar <- A %*% S\n",
    "\t# Reconstruction Error\n",
    "\tRecError <- .recError(X, X_bar)\n",
    "\t# Relative Change\n",
    "\tRelChange <- thr * 10\n",
    "\tlist(X=X, A=A, S=S, RecError=RecError, RelChange=RelChange)\n",
    "}\n",
    "\n",
    ".whitening <- function(X){\n",
    "\t...\n",
    "}\n",
    "\n",
    ".recError <- function(X, X_bar){\n",
    "\t...\n",
    "}\n",
    "\n",
    ".relChange <- function(iter, RecError){\n",
    "\t...\n",
    "}"
   ]
  },
  {
   "cell_type": "markdown",
   "metadata": {},
   "source": [
    "## Simulation Datasets"
   ]
  },
  {
   "cell_type": "code",
   "execution_count": 8,
   "metadata": {},
   "outputs": [],
   "source": [
    "X <- matrix(runif(100*200), nrow=100, ncol=100)"
   ]
  },
  {
   "cell_type": "markdown",
   "metadata": {},
   "source": [
    "## Perform ICA against Simulation Datasets"
   ]
  },
  {
   "cell_type": "code",
   "execution_count": null,
   "metadata": {},
   "outputs": [],
   "source": [
    "J <- 5\n",
    "out.JADE <- ICA(X, J=J, algorithm=\"JADE\")\n",
    "out.AuxICA1 <- ICA(X, J=J, algorithm=\"AuxICA1\")\n",
    "out.AuxICA2 <- ICA(X, J=J, algorithm=\"AuxICA2\")\n",
    "out.IPCA <- ICA(X, J=J, algorithm=\"IPCA\")\n",
    "out.SIMBEC <- ICA(X, J=J, algorithm=\"SIMBEC\")\n",
    "out.AMUSE <- ICA(X, J=J, algorithm=\"AMUSE\")\n",
    "out.SOBI <- ICA(X, J=J, algorithm=\"SOBI\")\n",
    "out.FOBI <- ICA(X, J=J, algorithm=\"FOBI\")\n",
    "out.ProDenICA <- ICA(X, J=J, algorithm=\"ProDenICA\")\n",
    "out.RICA <- ICA(X, J=J, algorithm=\"RICA\")"
   ]
  },
  {
   "cell_type": "markdown",
   "metadata": {},
   "source": [
    "## Test Input object / type"
   ]
  },
  {
   "cell_type": "markdown",
   "metadata": {},
   "source": [
    "### Test I-1: Object Names"
   ]
  },
  {
   "cell_type": "code",
   "execution_count": null,
   "metadata": {},
   "outputs": [],
   "source": [
    "expect_identical(names(formals(ICA)), c(\"X\", \"J\", \"algorithm\", \"num.iter\", \"thr\", \"verbose\"))"
   ]
  },
  {
   "cell_type": "markdown",
   "metadata": {},
   "source": [
    "### Test I-2: X"
   ]
  },
  {
   "cell_type": "code",
   "execution_count": null,
   "metadata": {},
   "outputs": [],
   "source": [
    "expect_identical(as.character(formals(ICA)$X), \"\")"
   ]
  },
  {
   "cell_type": "markdown",
   "metadata": {},
   "source": [
    "### Test I-3: J"
   ]
  },
  {
   "cell_type": "code",
   "execution_count": null,
   "metadata": {},
   "outputs": [],
   "source": [
    "expect_identical(as.character(formals(ICA)$J), \"\")"
   ]
  },
  {
   "cell_type": "markdown",
   "metadata": {},
   "source": [
    "### Test I-4: algorithm"
   ]
  },
  {
   "cell_type": "code",
   "execution_count": null,
   "metadata": {},
   "outputs": [],
   "source": [
    "expect_identical(formals(ICA)$algorithm,\n",
    "    c(\"JADE\", \"AuxICA1\", \"AuxICA2\", \"IPCA\", \"SIMBEC\", \"AMUSE\",\n",
    "        \"SOBI\", \"FOBI\", \"ProDenICA\", \"RICA\"))"
   ]
  },
  {
   "cell_type": "markdown",
   "metadata": {},
   "source": [
    "### Test I-5: num.iter"
   ]
  },
  {
   "cell_type": "code",
   "execution_count": null,
   "metadata": {},
   "outputs": [],
   "source": [
    "expect_identical(formals(ICA)$num.iter, 30)"
   ]
  },
  {
   "cell_type": "markdown",
   "metadata": {},
   "source": [
    "### Test I-6: thr"
   ]
  },
  {
   "cell_type": "code",
   "execution_count": null,
   "metadata": {},
   "outputs": [],
   "source": [
    "expect_identical(formals(ICA)$thr, 1E-10)"
   ]
  },
  {
   "cell_type": "markdown",
   "metadata": {},
   "source": [
    "### Test I-7: verbose"
   ]
  },
  {
   "cell_type": "code",
   "execution_count": null,
   "metadata": {},
   "outputs": [],
   "source": [
    "expect_identical(formals(ICA)$verbose, FALSE)"
   ]
  },
  {
   "cell_type": "markdown",
   "metadata": {},
   "source": [
    "## Test Output object / type"
   ]
  },
  {
   "cell_type": "markdown",
   "metadata": {},
   "source": [
    "### Test O-1: Object"
   ]
  },
  {
   "cell_type": "code",
   "execution_count": null,
   "metadata": {},
   "outputs": [],
   "source": [
    "expect_identical(is.list(out.JADE), TRUE)\n",
    "expect_identical(is.list(out.AuxICA1), TRUE)\n",
    "expect_identical(is.list(out.AuxICA2), TRUE)\n",
    "expect_identical(is.list(out.IPCA), TRUE)\n",
    "expect_identical(is.list(out.SIMBEC), TRUE)\n",
    "expect_identical(is.list(out.AMUSE), TRUE)\n",
    "expect_identical(is.list(out.SOBI), TRUE)\n",
    "expect_identical(is.list(out.FOBI), TRUE)\n",
    "expect_identical(is.list(out.ProDenICA), TRUE)\n",
    "expect_identical(is.list(out.RICA), TRUE)"
   ]
  },
  {
   "cell_type": "markdown",
   "metadata": {},
   "source": [
    "### Test O-2: Object Names"
   ]
  },
  {
   "cell_type": "code",
   "execution_count": null,
   "metadata": {},
   "outputs": [],
   "source": [
    "expect_identical(names(out.JADE),\n",
    "    c(\"A\", \"S\", \"J\", \"algorithm\", \"num.iter\", \"thr\", \"verbose\", \"RecError\", \"RelChange\"))\n",
    "expect_identical(names(out.AuxICA1),\n",
    "    c(\"A\", \"S\", \"J\", \"algorithm\", \"num.iter\", \"thr\", \"verbose\", \"RecError\", \"RelChange\"))\n",
    "expect_identical(names(out.AuxICA2),\n",
    "    c(\"A\", \"S\", \"J\", \"algorithm\", \"num.iter\", \"thr\", \"verbose\", \"RecError\", \"RelChange\"))\n",
    "expect_identical(names(out.IPCA),\n",
    "    c(\"A\", \"S\", \"J\", \"algorithm\", \"num.iter\", \"thr\", \"verbose\", \"RecError\", \"RelChange\"))\n",
    "expect_identical(names(out.SIMBEC),\n",
    "    c(\"A\", \"S\", \"J\", \"algorithm\", \"num.iter\", \"thr\", \"verbose\", \"RecError\", \"RelChange\"))\n",
    "expect_identical(names(out.AMUSE),\n",
    "    c(\"A\", \"S\", \"J\", \"algorithm\", \"num.iter\", \"thr\", \"verbose\", \"RecError\", \"RelChange\"))\n",
    "expect_identical(names(out.SOBI),\n",
    "    c(\"A\", \"S\", \"J\", \"algorithm\", \"num.iter\", \"thr\", \"verbose\", \"RecError\", \"RelChange\"))\n",
    "expect_identical(names(out.FOBI),\n",
    "    c(\"A\", \"S\", \"J\", \"algorithm\", \"num.iter\", \"thr\", \"verbose\", \"RecError\", \"RelChange\"))\n",
    "expect_identical(names(out.ProDenICA),\n",
    "    c(\"A\", \"S\", \"J\", \"algorithm\", \"num.iter\", \"thr\", \"verbose\", \"RecError\", \"RelChange\"))\n",
    "expect_identical(names(out.RICA),\n",
    "    c(\"A\", \"S\", \"J\", \"algorithm\", \"num.iter\", \"thr\", \"verbose\", \"RecError\", \"RelChange\"))"
   ]
  },
  {
   "cell_type": "markdown",
   "metadata": {},
   "source": [
    "### Test 0-3: A"
   ]
  },
  {
   "cell_type": "code",
   "execution_count": null,
   "metadata": {},
   "outputs": [],
   "source": [
    "expect_identical(is.matrix(out.JADE$A), TRUE)\n",
    "expect_identical(is.matrix(out.AuxICA1$A), TRUE)\n",
    "expect_identical(is.matrix(out.AuxICA2$A), TRUE)\n",
    "expect_identical(is.matrix(out.IPCA$A), TRUE)\n",
    "expect_identical(is.matrix(out.SIMBEC$A), TRUE)\n",
    "expect_identical(is.matrix(out.AMUSE$A), TRUE)\n",
    "expect_identical(is.matrix(out.SOBI$A), TRUE)\n",
    "expect_identical(is.matrix(out.FOBI$A), TRUE)\n",
    "expect_identical(is.matrix(out.ProDenICA$A), TRUE)\n",
    "expect_identical(is.matrix(out.RICA$A), TRUE)\n",
    "\n",
    "expect_identical(dim(out.JADE$A), c(nrow(X), J))\n",
    "expect_identical(dim(out.AuxICA1$A), c(nrow(X), J))\n",
    "expect_identical(dim(out.AuxICA2$A), c(nrow(X), J))\n",
    "expect_identical(dim(out.IPCA$A), c(nrow(X), J))\n",
    "expect_identical(dim(out.SIMBEC$A), c(nrow(X), J))\n",
    "expect_identical(dim(out.AMUSE$A), c(nrow(X), J))\n",
    "expect_identical(dim(out.SOBI$A), c(nrow(X), J))\n",
    "expect_identical(dim(out.FOBI$A), c(nrow(X), J))\n",
    "expect_identical(dim(out.ProDenICA$A), c(nrow(X), J))\n",
    "expect_identical(dim(out.RICA$A), c(nrow(X), J))"
   ]
  },
  {
   "cell_type": "markdown",
   "metadata": {},
   "source": [
    "### Test 0-4: S"
   ]
  },
  {
   "cell_type": "code",
   "execution_count": null,
   "metadata": {},
   "outputs": [],
   "source": [
    "expect_identical(is.matrix(out.JADE$S), TRUE)\n",
    "expect_identical(is.matrix(out.AuxICA1$S), TRUE)\n",
    "expect_identical(is.matrix(out.AuxICA2$S), TRUE)\n",
    "expect_identical(is.matrix(out.IPCA$S), TRUE)\n",
    "expect_identical(is.matrix(out.SIMBEC$S), TRUE)\n",
    "expect_identical(is.matrix(out.AMUSE$S), TRUE)\n",
    "expect_identical(is.matrix(out.SOBI$S), TRUE)\n",
    "expect_identical(is.matrix(out.FOBI$S), TRUE)\n",
    "expect_identical(is.matrix(out.ProDenICA$S), TRUE)\n",
    "expect_identical(is.matrix(out.RICA$S), TRUE)\n",
    "\n",
    "expect_identical(dim(out.JADE$S), c(J, ncol(X)))\n",
    "expect_identical(dim(out.AuxICA1$S), c(J, ncol(X)))\n",
    "expect_identical(dim(out.AuxICA2$S), c(J, ncol(X)))\n",
    "expect_identical(dim(out.IPCA$S), c(J, ncol(X)))\n",
    "expect_identical(dim(out.SIMBEC$S), c(J, ncol(X)))\n",
    "expect_identical(dim(out.AMUSE$S), c(J, ncol(X)))\n",
    "expect_identical(dim(out.SOBI$S), c(J, ncol(X)))\n",
    "expect_identical(dim(out.FOBI$S), c(J, ncol(X)))\n",
    "expect_identical(dim(out.ProDenICA$S), c(J, ncol(X)))\n",
    "expect_identical(dim(out.RICA$S), c(J, ncol(X)))"
   ]
  },
  {
   "cell_type": "markdown",
   "metadata": {},
   "source": [
    "### Test 0-5: J"
   ]
  },
  {
   "cell_type": "code",
   "execution_count": null,
   "metadata": {},
   "outputs": [],
   "source": [
    "expect_identical(out.JADE$J, J)\n",
    "expect_identical(out.AuxICA1$J, J)\n",
    "expect_identical(out.AuxICA2$J, J)\n",
    "expect_identical(out.IPCA$J, J)\n",
    "expect_identical(out.SIMBEC$J, J)\n",
    "expect_identical(out.AMUSE$J, J)\n",
    "expect_identical(out.SOBI$J, J)\n",
    "expect_identical(out.FOBI$J, J)\n",
    "expect_identical(out.ProDenICA$J, J)\n",
    "expect_identical(out.RICA$J, J)"
   ]
  },
  {
   "cell_type": "markdown",
   "metadata": {},
   "source": [
    "### Test 0-6: algorithm"
   ]
  },
  {
   "cell_type": "code",
   "execution_count": null,
   "metadata": {},
   "outputs": [],
   "source": [
    "expect_identical(out.JADE$algorithm, \"JADE\")\n",
    "expect_identical(out.AuxICA1$algorithm, \"AuxICA1\")\n",
    "expect_identical(out.AuxICA2$algorithm, \"AuxICA2\")\n",
    "expect_identical(out.IPCA$algorithm, \"IPCA\")\n",
    "expect_identical(out.SIMBEC$algorithm, \"SIMBEC\")\n",
    "expect_identical(out.AMUSE$algorithm, \"AMUSE\")\n",
    "expect_identical(out.SOBI$algorithm, \"SOBI\")\n",
    "expect_identical(out.FOBI$algorithm, \"FOBI\")\n",
    "expect_identical(out.ProDenICA$algorithm, \"ProDenICA\")\n",
    "expect_identical(out.RICA$algorithm, \"RICA\")"
   ]
  },
  {
   "cell_type": "markdown",
   "metadata": {},
   "source": [
    "### Test 0-7: num.iter"
   ]
  },
  {
   "cell_type": "code",
   "execution_count": null,
   "metadata": {},
   "outputs": [],
   "source": [
    "expect_identical(out.JADE$num.iter, formals(ICA)$num.iter)\n",
    "expect_identical(out.AuxICA1$num.iter, formals(ICA)$num.iter)\n",
    "expect_identical(out.AuxICA2$num.iter, formals(ICA)$num.iter)\n",
    "expect_identical(out.IPCA$num.iter, formals(ICA)$num.iter)\n",
    "expect_identical(out.SIMBEC$num.iter, formals(ICA)$num.iter)\n",
    "expect_identical(out.AMUSE$num.iter, formals(ICA)$num.iter)\n",
    "expect_identical(out.SOBI$num.iter, formals(ICA)$num.iter)\n",
    "expect_identical(out.FOBI$num.iter, formals(ICA)$num.iter)\n",
    "expect_identical(out.ProDenICA$num.iter, formals(ICA)$num.iter)\n",
    "expect_identical(out.RICA$num.iter, formals(ICA)$num.iter)"
   ]
  },
  {
   "cell_type": "markdown",
   "metadata": {},
   "source": [
    "### Test 0-8: thr"
   ]
  },
  {
   "cell_type": "code",
   "execution_count": null,
   "metadata": {},
   "outputs": [],
   "source": [
    "expect_identical(out.JADE$thr, formals(ICA)$thr)\n",
    "expect_identical(out.AuxICA1$thr, formals(ICA)$thr)\n",
    "expect_identical(out.AuxICA2$thr, formals(ICA)$thr)\n",
    "expect_identical(out.IPCA$thr, formals(ICA)$thr)\n",
    "expect_identical(out.SIMBEC$thr, formals(ICA)$thr)\n",
    "expect_identical(out.AMUSE$thr, formals(ICA)$thr)\n",
    "expect_identical(out.SOBI$thr, formals(ICA)$thr)\n",
    "expect_identical(out.FOBI$thr, formals(ICA)$thr)\n",
    "expect_identical(out.ProDenICA$thr, formals(ICA)$thr)\n",
    "expect_identical(out.RICA$thr, formals(ICA)$thr)"
   ]
  },
  {
   "cell_type": "markdown",
   "metadata": {},
   "source": [
    "### Test 0-9: verbose"
   ]
  },
  {
   "cell_type": "code",
   "execution_count": null,
   "metadata": {},
   "outputs": [],
   "source": [
    "expect_identical(out.JADE$verbose, formals(ICA)$verbose)\n",
    "expect_identical(out.AuxICA1$verbose, formals(ICA)$verbose)\n",
    "expect_identical(out.AuxICA2$verbose, formals(ICA)$verbose)\n",
    "expect_identical(out.IPCA$verbose, formals(ICA)$verbose)\n",
    "expect_identical(out.SIMBEC$verbose, formals(ICA)$verbose)\n",
    "expect_identical(out.AMUSE$verbose, formals(ICA)$verbose)\n",
    "expect_identical(out.SOBI$verbose, formals(ICA)$verbose)\n",
    "expect_identical(out.FOBI$verbose, formals(ICA)$verbose)\n",
    "expect_identical(out.ProDenICA$verbose, formals(ICA)$verbose)\n",
    "expect_identical(out.RICA$verbose, formals(ICA)$verbose)"
   ]
  },
  {
   "cell_type": "markdown",
   "metadata": {},
   "source": [
    "### Test 0-10: RecError"
   ]
  },
  {
   "cell_type": "code",
   "execution_count": null,
   "metadata": {},
   "outputs": [],
   "source": [
    "expect_identical(is.vector(out.JADE$RecError), TRUE)\n",
    "expect_identical(is.vector(out.AuxICA1$RecError), TRUE)\n",
    "expect_identical(is.vector(out.AuxICA2$RecError), TRUE)\n",
    "expect_identical(is.vector(out.IPCA$RecError), TRUE)\n",
    "expect_identical(is.vector(out.SIMBEC$RecError), TRUE)\n",
    "expect_identical(is.vector(out.AMUSE$RecError), TRUE)\n",
    "expect_identical(is.vector(out.SOBI$RecError), TRUE)\n",
    "expect_identical(is.vector(out.FOBI$RecError), TRUE)\n",
    "expect_identical(is.vector(out.ProDenICA$RecError), TRUE)\n",
    "expect_identical(is.vector(out.RICA$RecError), TRUE)"
   ]
  },
  {
   "cell_type": "markdown",
   "metadata": {},
   "source": [
    "### Test 0-11: RelChange"
   ]
  },
  {
   "cell_type": "code",
   "execution_count": null,
   "metadata": {},
   "outputs": [],
   "source": [
    "expect_identical(is.vector(out.JADE$RelChange), TRUE)\n",
    "expect_identical(is.vector(out.AuxICA1$RelChange), TRUE)\n",
    "expect_identical(is.vector(out.AuxICA2$RelChange), TRUE)\n",
    "expect_identical(is.vector(out.IPCA$RelChange), TRUE)\n",
    "expect_identical(is.vector(out.SIMBEC$RelChange), TRUE)\n",
    "expect_identical(is.vector(out.AMUSE$RelChange), TRUE)\n",
    "expect_identical(is.vector(out.SOBI$RelChange), TRUE)\n",
    "expect_identical(is.vector(out.FOBI$RelChange), TRUE)\n",
    "expect_identical(is.vector(out.ProDenICA$RelChange), TRUE)\n",
    "expect_identical(is.vector(out.RICA$RelChange), TRUE)"
   ]
  },
  {
   "cell_type": "markdown",
   "metadata": {},
   "source": [
    "## Test Error"
   ]
  },
  {
   "cell_type": "markdown",
   "metadata": {},
   "source": [
    "### Test E-1: X"
   ]
  },
  {
   "cell_type": "code",
   "execution_count": null,
   "metadata": {},
   "outputs": [],
   "source": [
    "expect_error(ICA(as.data.frame(X), J=J))"
   ]
  },
  {
   "cell_type": "markdown",
   "metadata": {},
   "source": [
    "### Test E-2: J"
   ]
  },
  {
   "cell_type": "code",
   "execution_count": null,
   "metadata": {},
   "outputs": [],
   "source": [
    "expect_error(ICA(X, J=\"5\"))\n",
    "expect_error(ICA(X, J=c(2,4)))\n",
    "expect_error(ICA(X, J=10^10)"
   ]
  },
  {
   "cell_type": "markdown",
   "metadata": {},
   "source": [
    "### Test E-3: num.iter"
   ]
  },
  {
   "cell_type": "code",
   "execution_count": null,
   "metadata": {},
   "outputs": [],
   "source": [
    "expect_error(ICA(X, J=J, num.iter=\"100\"))\n",
    "expect_error(ICA(X, J=J, num.iter=-1))"
   ]
  },
  {
   "cell_type": "markdown",
   "metadata": {},
   "source": [
    "### Test E-4: thr"
   ]
  },
  {
   "cell_type": "code",
   "execution_count": null,
   "metadata": {},
   "outputs": [],
   "source": [
    "expect_error(ICA(X, J=J, thr=\"0.1\"))"
   ]
  },
  {
   "cell_type": "markdown",
   "metadata": {},
   "source": [
    "### Test E-5: verbose"
   ]
  },
  {
   "cell_type": "code",
   "execution_count": null,
   "metadata": {},
   "outputs": [],
   "source": [
    "expect_error(ICA(X, J=J, verbose=\"verbose\"))"
   ]
  },
  {
   "cell_type": "markdown",
   "metadata": {},
   "source": [
    "## Test Decrease of Error"
   ]
  },
  {
   "cell_type": "markdown",
   "metadata": {},
   "source": [
    "### Test D-1: RecError"
   ]
  },
  {
   "cell_type": "code",
   "execution_count": null,
   "metadata": {},
   "outputs": [],
   "source": [
    ".sampleRank <- function(x){\n",
    "\trank(c(x[2], median(x), rev(x)[1]))\n",
    "}\n",
    "\n",
    "expect_identical(.sampleRank(out.JADE$RecError), 3:1)\n",
    "expect_identical(.sampleRank(out.AuxICA1$RecError), 3:1)\n",
    "expect_identical(.sampleRank(out.AuxICA2$RecError), 3:1)\n",
    "expect_identical(.sampleRank(out.IPCA$RecError), 3:1)\n",
    "expect_identical(.sampleRank(out.SIMBEC$RecError), 3:1)\n",
    "expect_identical(.sampleRank(out.AMUSE$RecError), 3:1)\n",
    "expect_identical(.sampleRank(out.SOBI$RecError), 3:1)\n",
    "expect_identical(.sampleRank(out.FOBI$RecError), 3:1)\n",
    "expect_identical(.sampleRank(out.ProDenICA$RecError), 3:1)\n",
    "expect_identical(.sampleRank(out.RICA$RecError), 3:1)"
   ]
  },
  {
   "cell_type": "markdown",
   "metadata": {},
   "source": [
    "### Test D-2: RelChange"
   ]
  },
  {
   "cell_type": "code",
   "execution_count": null,
   "metadata": {},
   "outputs": [],
   "source": [
    "expect_identical(.sampleRank(out.JADE$RelChange), 3:1)\n",
    "expect_identical(.sampleRank(out.AuxICA1$RelChange), 3:1)\n",
    "expect_identical(.sampleRank(out.AuxICA2$RelChange), 3:1)\n",
    "expect_identical(.sampleRank(out.IPCA$RelChange), 3:1)\n",
    "expect_identical(.sampleRank(out.SIMBEC$RelChange), 3:1)\n",
    "expect_identical(.sampleRank(out.AMUSE$RelChange), 3:1)\n",
    "expect_identical(.sampleRank(out.SOBI$RelChange), 3:1)\n",
    "expect_identical(.sampleRank(out.FOBI$RelChange), 3:1)\n",
    "expect_identical(.sampleRank(out.ProDenICA$RelChange), 3:1)\n",
    "expect_identical(.sampleRank(out.RICA$RelChange), 3:1)"
   ]
  },
  {
   "cell_type": "markdown",
   "metadata": {},
   "source": [
    "## Session Information"
   ]
  },
  {
   "cell_type": "code",
   "execution_count": null,
   "metadata": {},
   "outputs": [],
   "source": [
    "sessionInfo()"
   ]
  }
 ],
 "metadata": {
  "kernelspec": {
   "display_name": "R",
   "language": "R",
   "name": "ir"
  },
  "language_info": {
   "codemirror_mode": "r",
   "file_extension": ".r",
   "mimetype": "text/x-r-source",
   "name": "R",
   "pygments_lexer": "r",
   "version": "3.6.3"
  }
 },
 "nbformat": 4,
 "nbformat_minor": 4
}
