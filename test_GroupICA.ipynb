{
 "cells": [
  {
   "cell_type": "markdown",
   "metadata": {},
   "source": [
    "# Test code of GroupICA Function"
   ]
  },
  {
   "cell_type": "markdown",
   "metadata": {},
   "source": [
    "## Dependent Packages Installation"
   ]
  },
  {
   "cell_type": "code",
   "execution_count": null,
   "metadata": {},
   "outputs": [],
   "source": [
    "if (!requireNamespace(\"testthat\", quietly = TRUE)){\n",
    "    install.packages(\"testthat\", repos=\"https://cran.r-project.org\")\n",
    "}\n",
    "library(\"testthat\")\n",
    "if (!requireNamespace(\"rlist\", quietly = TRUE)){\n",
    "    install.packages(\"rlist\", repos=\"https://cran.r-project.org\")\n",
    "}\n",
    "library(\"rlist\")"
   ]
  },
  {
   "cell_type": "markdown",
   "metadata": {},
   "source": [
    "## GroupICA Function (Paste your GroupICA code here)"
   ]
  },
  {
   "cell_type": "code",
   "execution_count": null,
   "metadata": {},
   "outputs": [],
   "source": [
    "GroupICA <- function(Xs, J1, J2=J1,\n",
    "    algorithm=c(\"pooled\", \"Calhourn2009\", \"Pfister2018\"),\n",
    "    ica.algorithm=c(\"JADE\", \"AuxICA1\", \"AuxICA2\", \"IPCA\",\n",
    "        \"SIMBEC\", \"AMUSE\",\n",
    "        \"SOBI\", \"FOBI\", \"ProDenICA\", \"RICA\"),\n",
    "    num.iter=30, thr=1E-10, verbose=FALSE){\n",
    "    ######################################\n",
    "    # Argument Check\n",
    "    ######################################\n",
    "    .checkGroupICA(Xs, J1, J2, algorithm, num.iter, thr, verbose)\n",
    "    algorithm <- match.arg(algorithm)\n",
    "    ica.algorithm <- match.arg(algorithm)\n",
    "    l <- length(Xs)\n",
    "    if(algorithm == \"pooled\"){\n",
    "        Xpooled <- rlist::list.cbind(Xs)\n",
    "        out <- ICA(Xpooled, J=J1, algorithm=ica.algorithm,\n",
    "            num.iter=num.iter, thr=thr, verbose=verbose)\n",
    "        # Output\n",
    "        A <- out$A\n",
    "        Ss <- lapply(seq(l), function(x){out$S})\n",
    "        RecError <- out$RecError\n",
    "        RelChange <- out$RelChange\n",
    "    }\n",
    "    if(algorithm == \"Calhourn2009\"){\n",
    "        # 1. Each PCA\n",
    "        res.pca <- lapply(Xs, function(x){\n",
    "            prcomp(x, center=TRUE, scale=FALSE)\n",
    "        })\n",
    "        PCcat <- rlist::list.cbind(lapply(res.pca, function(x){x$x[, seq(J1)]}))\n",
    "        # 2. Merged PCA\n",
    "        res.merged.pca <- prcomp(PCcat, center=TRUE, scale=FALSE)\n",
    "        # 3. Merged ICA\n",
    "        res.merged.ica <- ICA(res.merged.pca$x[, seq(J2)],\n",
    "            J=J2, algorithm=ica.algorithm,\n",
    "            num.iter=num.iter, thr=thr, verbose=verbose)\n",
    "        # 4. Reconstruction / Output\n",
    "        A <- res.merged.ica$A\n",
    "        Ss <- lapply(seq(l), function(x){\n",
    "            idx <- .eachidx(J1, l, x)\n",
    "            res.merged.ica$S %*%\n",
    "                t(res.merged.pca$rotation[idx, seq(J2)]) %*%\n",
    "                    t(res.pca[[x]]$rotation[, seq(J1)])\n",
    "        })\n",
    "        RecError <- NULL\n",
    "        RelChange <- NULL\n",
    "    }\n",
    "    if(algorithm == \"Pfister2018\"){      \n",
    "        ######################################\n",
    "        # Initialization (e.g. Whiteniing)\n",
    "        ######################################\n",
    "        int <- .initGroupICA(Xs)\n",
    "        X <- int$X # poolされて出力されるように\n",
    "        g <- int$g # group index\n",
    "        Pg <- int$Pg # group-wise partition（GroupICAのオプションにする必要有り）\n",
    "        M <- int$M # empty list\n",
    "        for(g in G){\n",
    "            for(e in E){\n",
    "                M[...] <- cov(Xe) - cov(Xe)\n",
    "            }\n",
    "        }\n",
    "        out <- .ApproximateJointDiagonalizer(M)\n",
    "        # Output\n",
    "        A <- X %*% t(out)\n",
    "        Ss <- out # 個体ごとに要素を持つリストにする\n",
    "        RecError <- NULL\n",
    "        RelChange <- NULL\n",
    "    }    \n",
    "    # Output\n",
    "    list(A=A, Ss=Ss, J1=J1, J2=J2,\n",
    "        algorithm=algorithm, ica.algorithm=ica.algorithm,\n",
    "        num.iter=num.iter, thr=thr, verbose=verbose,\n",
    "        RecError=RecError, RelChange=RelChange)\n",
    "}\n",
    "\n",
    ".checkGroupICA <- function(Xs, J1, J2, algorithm, num.iter, thr, verbose){\n",
    "    stopifnot(is.list(Xs))\n",
    "    nr <- lapply(Xs, nrow)\n",
    "    all.equal(length(unique(nr)), 1)\n",
    "    stopifnot(is.numeric(J1))\n",
    "    stopifnot(length(J1) == 1)\n",
    "    lapply(Xs, function(x){\n",
    "        stopifnot(min(dim(x)) >= J1)\n",
    "    })\n",
    "    if(algorithm == \"Calhourn2009\"){\n",
    "        stopifnot(is.numeric(J2))\n",
    "        stopifnot(length(J2) == 1)\n",
    "        stopifnot(min(nrow(Xs[[1]]), length(Xs)*J1) >= J2)\n",
    "    }\n",
    "    stopifnot(is.numeric(num.iter))\n",
    "    stopifnot(num.iter > 0)\n",
    "    stopifnot(is.numeric(thr))\n",
    "    stopifnot(is.logical(verbose))\n",
    "}\n",
    "\n",
    ".initGroupICA <- function(Xs){\n",
    "    X <- ...\n",
    "    g <- ...\n",
    "    Pg <- ...\n",
    "    M <- ...\n",
    "    list(X=X, g=g, Pg=Pg, M=M)\n",
    "}\n",
    "\n",
    ".eachidx <- function(J1, l, x){\n",
    "    out <- 1:(J1*l)\n",
    "    start <- seq(from=1, to=J1*l, by=J1)[x]\n",
    "    end <- seq(from=J1, to=J1*l, by=J1)[x]\n",
    "    out[start:end]\n",
    "}\n",
    "\n",
    ".ApproximateJointDiagonalizer <- function(M){\n",
    "    ...\n",
    "}"
   ]
  },
  {
   "cell_type": "markdown",
   "metadata": {},
   "source": [
    "## Simulation Dataset"
   ]
  },
  {
   "cell_type": "code",
   "execution_count": null,
   "metadata": {},
   "outputs": [],
   "source": [
    "X1 <- matrix(runif(100*200), nrow=100, ncol=200)\n",
    "X2 <- matrix(runif(100*150), nrow=100, ncol=150)\n",
    "X3 <- matrix(runif(100*250), nrow=100, ncol=250)\n",
    "\n",
    "Xs <- list(X1=X1, X2=X2, X3=X3)"
   ]
  },
  {
   "cell_type": "markdown",
   "metadata": {},
   "source": [
    "## Perform GroupICA against Simulation Dataset"
   ]
  },
  {
   "cell_type": "code",
   "execution_count": null,
   "metadata": {},
   "outputs": [],
   "source": [
    "J1 <- 5\n",
    "out.pooled <- GroupICA(Xs, J1=J1, algorithm=\"pooled\")\n",
    "out.Calhourn2009 <- GroupICA(Xs, J1=J1, algorithm=\"Calhourn2009\")\n",
    "out.Pfister2018 <- GroupICA(Xs, J1=J1, algorithm=\"Pfister2018\")"
   ]
  },
  {
   "cell_type": "markdown",
   "metadata": {},
   "source": [
    "## Test Input object / type"
   ]
  },
  {
   "cell_type": "markdown",
   "metadata": {},
   "source": [
    "### Test I-1: Object Names"
   ]
  },
  {
   "cell_type": "code",
   "execution_count": null,
   "metadata": {},
   "outputs": [],
   "source": [
    "expect_identical(names(formals(GroupICA)),\n",
    "    c(\"Xs\", \"J1\", \"J2\", \"algorithm\", \"ica.algorithm\", \"num.iter\", \"thr\", \"verbose\"))"
   ]
  },
  {
   "cell_type": "markdown",
   "metadata": {},
   "source": [
    "### Test I-2: Xs"
   ]
  },
  {
   "cell_type": "code",
   "execution_count": null,
   "metadata": {},
   "outputs": [],
   "source": [
    "expect_identical(as.character(formals(GroupICA)$Xs), \"\")"
   ]
  },
  {
   "cell_type": "markdown",
   "metadata": {},
   "source": [
    "### Test I-3: J1"
   ]
  },
  {
   "cell_type": "code",
   "execution_count": null,
   "metadata": {},
   "outputs": [],
   "source": [
    "expect_identical(as.character(formals(GroupICA)$J1), \"\")"
   ]
  },
  {
   "cell_type": "markdown",
   "metadata": {},
   "source": [
    "### Test I-4: J2"
   ]
  },
  {
   "cell_type": "code",
   "execution_count": null,
   "metadata": {},
   "outputs": [],
   "source": [
    "expect_identical(as.character(formals(GroupICA)$J2), \"\")"
   ]
  },
  {
   "cell_type": "markdown",
   "metadata": {},
   "source": [
    "### Test I-5: algorithm"
   ]
  },
  {
   "cell_type": "code",
   "execution_count": null,
   "metadata": {},
   "outputs": [],
   "source": [
    "expect_identical(formals(GroupICA)$algorithm,\n",
    "    c(\"pooled\", \"Calhourn2009\", \"Pfister2018\"))"
   ]
  },
  {
   "cell_type": "markdown",
   "metadata": {},
   "source": [
    "### Test I-6: ica.algorithm"
   ]
  },
  {
   "cell_type": "code",
   "execution_count": null,
   "metadata": {},
   "outputs": [],
   "source": [
    "expect_identical(formals(GroupICA)$ica.algorithm,\n",
    "    c(\"JADE\", \"AuxICA1\", \"AuxICA2\", \"IPCA\",]\n",
    "        \"SIMBEC\", \"AMUSE\", \"SOBI\", \"FOBI\", \"ProDenICA\", \"RICA\"))"
   ]
  },
  {
   "cell_type": "markdown",
   "metadata": {},
   "source": [
    "### Test I-7: num.iter"
   ]
  },
  {
   "cell_type": "code",
   "execution_count": null,
   "metadata": {},
   "outputs": [],
   "source": [
    "expect_identical(formals(GroupICA)$num.iter, 30)"
   ]
  },
  {
   "cell_type": "markdown",
   "metadata": {},
   "source": [
    "### Test I-8: thr"
   ]
  },
  {
   "cell_type": "code",
   "execution_count": null,
   "metadata": {},
   "outputs": [],
   "source": [
    "expect_identical(formals(GroupICA)$thr, 1E-10)"
   ]
  },
  {
   "cell_type": "markdown",
   "metadata": {},
   "source": [
    "### Test I-9: verbose"
   ]
  },
  {
   "cell_type": "code",
   "execution_count": null,
   "metadata": {},
   "outputs": [],
   "source": [
    "expect_identical(formals(GroupICA)$verbose, FALSE)"
   ]
  },
  {
   "cell_type": "markdown",
   "metadata": {},
   "source": [
    "## Test Output object / type"
   ]
  },
  {
   "cell_type": "markdown",
   "metadata": {},
   "source": [
    "### Test O-1: Object"
   ]
  },
  {
   "cell_type": "code",
   "execution_count": null,
   "metadata": {},
   "outputs": [],
   "source": [
    "expect_identical(is.list(out.pooled), TRUE)\n",
    "expect_identical(is.list(out.Calhourn2009), TRUE)\n",
    "expect_identical(is.list(out.Pfister2018), TRUE)"
   ]
  },
  {
   "cell_type": "markdown",
   "metadata": {},
   "source": [
    "### Test O-2: Object Names"
   ]
  },
  {
   "cell_type": "code",
   "execution_count": null,
   "metadata": {},
   "outputs": [],
   "source": [
    "expect_identical(names(out.pooled),\n",
    "    c(\"A\", \"Ss\", \"J1\", \"J2\", \"algorithm\", \"ica.algorithm\",\n",
    "        \"num.iter\", \"thr\", \"verbose\", \"RecError\", \"RelChange\"))\n",
    "expect_identical(names(out.Calhourn2009),\n",
    "    c(\"A\", \"Ss\", \"J1\", \"J2\", \"algorithm\", \"ica.algorithm\",\n",
    "        \"num.iter\", \"thr\", \"verbose\", \"RecError\", \"RelChange\"))\n",
    "expect_identical(names(out.Pfister2018),\n",
    "    c(\"A\", \"Ss\", \"J1\", \"J2\", \"algorithm\", \"ica.algorithm\",\n",
    "        \"num.iter\", \"thr\", \"verbose\", \"RecError\", \"RelChange\"))"
   ]
  },
  {
   "cell_type": "markdown",
   "metadata": {},
   "source": [
    "### Test 0-3: A"
   ]
  },
  {
   "cell_type": "code",
   "execution_count": null,
   "metadata": {},
   "outputs": [],
   "source": [
    "expect_identical(is.matrix(out.pooled$A), TRUE)\n",
    "expect_identical(is.matrix(out.Calhourn2009$A), TRUE)\n",
    "expect_identical(is.matrix(out.Pfister2018$A), TRUE)\n",
    "\n",
    "expect_identical(dim(out.pooled$A), c(nrow(X[[1]]), J1))\n",
    "expect_identical(dim(out.Calhourn2009$A), c(nrow(X[[1]]), J1))\n",
    "expect_identical(dim(out.Pfister2018$A), c(nrow(X[[1]]), J1))"
   ]
  },
  {
   "cell_type": "markdown",
   "metadata": {},
   "source": [
    "### Test 0-4: Ss"
   ]
  },
  {
   "cell_type": "code",
   "execution_count": null,
   "metadata": {},
   "outputs": [],
   "source": [
    "expect_identical(is.matrix(out.pooled$Ss[[1]]), TRUE)\n",
    "expect_identical(is.matrix(out.pooled$Ss[[2]]), TRUE)\n",
    "expect_identical(is.matrix(out.pooled$Ss[[3]]), TRUE)\n",
    "expect_identical(is.matrix(out.Calhourn2009$Ss[[1]]), TRUE)\n",
    "expect_identical(is.matrix(out.Calhourn2009$Ss[[2]]), TRUE)\n",
    "expect_identical(is.matrix(out.Calhourn2009$Ss[[3]]), TRUE)\n",
    "expect_identical(is.matrix(out.Pfister2018$Ss[[1]]), TRUE)\n",
    "expect_identical(is.matrix(out.Pfister2018$Ss[[2]]), TRUE)\n",
    "expect_identical(is.matrix(out.Pfister2018$Ss[[3]]), TRUE)\n",
    "\n",
    "expect_identical(dim(out.pooled$Ss[[1]]), c(J1, ncol(X[[1]])))\n",
    "expect_identical(dim(out.pooled$Ss[[2]]), c(J1, ncol(X[[2]])))\n",
    "expect_identical(dim(out.pooled$Ss[[3]]), c(J1, ncol(X[[3]])))\n",
    "expect_identical(dim(out.Calhourn2009$Ss[[1]]), c(J1, ncol(X[[1]])))\n",
    "expect_identical(dim(out.Calhourn2009$Ss[[2]]), c(J1, ncol(X[[2]])))\n",
    "expect_identical(dim(out.Calhourn2009$Ss[[3]]), c(J1, ncol(X[[3]])))\n",
    "expect_identical(dim(out.Pfister2018$Ss[[1]]), c(J1, ncol(X[[1]])))\n",
    "expect_identical(dim(out.Pfister2018$Ss[[2]]), c(J1, ncol(X[[2]])))\n",
    "expect_identical(dim(out.Pfister2018$Ss[[3]]), c(J1, ncol(X[[3]])))"
   ]
  },
  {
   "cell_type": "markdown",
   "metadata": {},
   "source": [
    "### Test 0-5: J1"
   ]
  },
  {
   "cell_type": "code",
   "execution_count": null,
   "metadata": {},
   "outputs": [],
   "source": [
    "expect_identical(out.pooled$J1, J1)\n",
    "expect_identical(out.Calhourn2009$J1, J1)\n",
    "expect_identical(out.Pfister2018$J1, J1)"
   ]
  },
  {
   "cell_type": "markdown",
   "metadata": {},
   "source": [
    "### Test O-6: J2"
   ]
  },
  {
   "cell_type": "code",
   "execution_count": null,
   "metadata": {},
   "outputs": [],
   "source": [
    "expect_identical(out.pooled$J2, J1)\n",
    "expect_identical(out.Calhourn2009$J2, J1)\n",
    "expect_identical(out.Pfister2018$J2, J1)"
   ]
  },
  {
   "cell_type": "markdown",
   "metadata": {},
   "source": [
    "### Test 0-7: algorithm"
   ]
  },
  {
   "cell_type": "code",
   "execution_count": null,
   "metadata": {},
   "outputs": [],
   "source": [
    "expect_identical(out.pooled$algorithm, \"pooled\")\n",
    "expect_identical(out.Calhourn2009$algorithm, \"Calhourn2009\")\n",
    "expect_identical(out.Pfister2018$algorithm, \"Pfister2018\")"
   ]
  },
  {
   "cell_type": "markdown",
   "metadata": {},
   "source": [
    "### Test O-8: ica.algorithm"
   ]
  },
  {
   "cell_type": "code",
   "execution_count": null,
   "metadata": {},
   "outputs": [],
   "source": [
    "expect_identical(out.pooled$ica.algorithm, \"JADE\")\n",
    "expect_identical(out.Calhourn2009$ica.algorithm, \"JADE\")\n",
    "expect_identical(out.Pfister2018$ica.algorithm, \"JADE\")"
   ]
  },
  {
   "cell_type": "markdown",
   "metadata": {},
   "source": [
    "### Test 0-9: num.iter"
   ]
  },
  {
   "cell_type": "code",
   "execution_count": null,
   "metadata": {},
   "outputs": [],
   "source": [
    "expect_identical(out.pooled$num.iter, formals(GroupICA)$num.iter)\n",
    "expect_identical(out.Calhourn2009$num.iter, formals(GroupICA)$num.iter)\n",
    "expect_identical(out.Pfister2018$num.iter, formals(GroupICA)$num.iter)"
   ]
  },
  {
   "cell_type": "markdown",
   "metadata": {},
   "source": [
    "### Test 0-10: thr"
   ]
  },
  {
   "cell_type": "code",
   "execution_count": null,
   "metadata": {},
   "outputs": [],
   "source": [
    "expect_identical(out.pooled$thr, formals(GroupICA)$thr)\n",
    "expect_identical(out.Calhourn2009$thr, formals(GroupICA)$thr)\n",
    "expect_identical(out.Pfister2018$thr, formals(GroupICA)$thr)"
   ]
  },
  {
   "cell_type": "markdown",
   "metadata": {},
   "source": [
    "### Test 0-11: verbose"
   ]
  },
  {
   "cell_type": "code",
   "execution_count": null,
   "metadata": {},
   "outputs": [],
   "source": [
    "expect_identical(out.pooled$verbose, formals(GroupICA)$verbose)\n",
    "expect_identical(out.Calhourn2009$verbose, formals(GroupICA)$verbose)\n",
    "expect_identical(out.Pfister2018$verbose, formals(GroupICA)$verbose)"
   ]
  },
  {
   "cell_type": "markdown",
   "metadata": {},
   "source": [
    "### Test 0-12: RecError"
   ]
  },
  {
   "cell_type": "code",
   "execution_count": null,
   "metadata": {},
   "outputs": [],
   "source": [
    "expect_identical(is.vector(out.pooled$RecError), TRUE)\n",
    "expect_identical(is.null(out.Calhourn2009$RecError), TRUE)\n",
    "expect_identical(is.null(out.Pfister2018$RecError), TRUE)"
   ]
  },
  {
   "cell_type": "markdown",
   "metadata": {},
   "source": [
    "### Test 0-13: RelChange"
   ]
  },
  {
   "cell_type": "code",
   "execution_count": null,
   "metadata": {},
   "outputs": [],
   "source": [
    "expect_identical(is.vector(out.pooled$RelChange), TRUE)\n",
    "expect_identical(is.null(out.Calhourn2009$RelChange), TRUE)\n",
    "expect_identical(is.null(out.Pfister2018$RelChange), TRUE)"
   ]
  },
  {
   "cell_type": "markdown",
   "metadata": {},
   "source": [
    "## Test Error"
   ]
  },
  {
   "cell_type": "markdown",
   "metadata": {},
   "source": [
    "### Test E-1: X"
   ]
  },
  {
   "cell_type": "code",
   "execution_count": null,
   "metadata": {},
   "outputs": [],
   "source": [
    "expect_error(GroupICA(X, J1=J1))"
   ]
  },
  {
   "cell_type": "markdown",
   "metadata": {},
   "source": [
    "### Test E-2: J1"
   ]
  },
  {
   "cell_type": "code",
   "execution_count": null,
   "metadata": {},
   "outputs": [],
   "source": [
    "expect_error(GroupICA(Xs, J1=\"5\"))\n",
    "expect_error(GroupICA(Xs, J1=c(2,4)))\n",
    "expect_error(GroupICA(Xs, J1=10^10)"
   ]
  },
  {
   "cell_type": "markdown",
   "metadata": {},
   "source": [
    "### Test E-3: J2"
   ]
  },
  {
   "cell_type": "code",
   "execution_count": null,
   "metadata": {},
   "outputs": [],
   "source": [
    "expect_error(GroupICA(Xs, J2=\"5\"))\n",
    "expect_error(GroupICA(Xs, J2=c(2,4)))\n",
    "expect_error(GroupICA(Xs, J2=10^10)"
   ]
  },
  {
   "cell_type": "markdown",
   "metadata": {},
   "source": [
    "### Test E-4: algorithm"
   ]
  },
  {
   "cell_type": "code",
   "execution_count": null,
   "metadata": {},
   "outputs": [],
   "source": [
    "expect_error(GroupICA(Xs, algorithm=\"poooled\"))"
   ]
  },
  {
   "cell_type": "markdown",
   "metadata": {},
   "source": [
    "### Test E-5: ica.algorithm"
   ]
  },
  {
   "cell_type": "code",
   "execution_count": null,
   "metadata": {},
   "outputs": [],
   "source": [
    "expect_error(GroupICA(Xs, ica.algorithm=\"JAAE\"))"
   ]
  },
  {
   "cell_type": "markdown",
   "metadata": {},
   "source": [
    "### Test E-6: num.iter"
   ]
  },
  {
   "cell_type": "code",
   "execution_count": null,
   "metadata": {},
   "outputs": [],
   "source": [
    "expect_error(GroupICA(Xs, J=J, num.iter=\"100\"))\n",
    "expect_error(GroupICA(Xs, J=J, num.iter=-1))"
   ]
  },
  {
   "cell_type": "markdown",
   "metadata": {},
   "source": [
    "### Test E-7: thr"
   ]
  },
  {
   "cell_type": "code",
   "execution_count": null,
   "metadata": {},
   "outputs": [],
   "source": [
    "expect_error(GroupICA(X, J=J, thr=\"0.1\"))"
   ]
  },
  {
   "cell_type": "markdown",
   "metadata": {},
   "source": [
    "### Test E-8: verbose"
   ]
  },
  {
   "cell_type": "code",
   "execution_count": null,
   "metadata": {},
   "outputs": [],
   "source": [
    "expect_error(GroupICA(X, J=J, verbose=\"verbose\"))"
   ]
  },
  {
   "cell_type": "markdown",
   "metadata": {},
   "source": [
    "## Test Decrease of Error"
   ]
  },
  {
   "cell_type": "markdown",
   "metadata": {},
   "source": [
    "### Test D-1: RecError"
   ]
  },
  {
   "cell_type": "code",
   "execution_count": null,
   "metadata": {},
   "outputs": [],
   "source": [
    ".sampleRank <- function(x){\n",
    "    rank(c(x[2], median(x), rev(x)[1]))\n",
    "}\n",
    "\n",
    "expect_identical(.sampleRank(out.pooled$RecError), 3:1)"
   ]
  },
  {
   "cell_type": "markdown",
   "metadata": {},
   "source": [
    "### Test D-2: RelChange"
   ]
  },
  {
   "cell_type": "code",
   "execution_count": null,
   "metadata": {},
   "outputs": [],
   "source": [
    "expect_identical(.sampleRank(out.pooled$RelChange), 3:1)"
   ]
  },
  {
   "cell_type": "markdown",
   "metadata": {},
   "source": [
    "## Session Information"
   ]
  },
  {
   "cell_type": "code",
   "execution_count": null,
   "metadata": {},
   "outputs": [],
   "source": [
    "sessionInfo()"
   ]
  }
 ],
 "metadata": {
  "kernelspec": {
   "display_name": "R",
   "language": "R",
   "name": "ir"
  },
  "language_info": {
   "codemirror_mode": "r",
   "file_extension": ".r",
   "mimetype": "text/x-r-source",
   "name": "R",
   "pygments_lexer": "r",
   "version": "3.6.3"
  }
 },
 "nbformat": 4,
 "nbformat_minor": 4
}
